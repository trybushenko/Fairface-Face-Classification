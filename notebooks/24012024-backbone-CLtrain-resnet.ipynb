{
 "cells": [
  {
   "cell_type": "code",
   "execution_count": 1,
   "metadata": {},
   "outputs": [],
   "source": [
    "import numpy as np\n",
    "import pandas as pd\n",
    "import matplotlib.pyplot as plt\n",
    "import seaborn as sns\n",
    "import json\n",
    "import torch\n",
    "import torch\n",
    "\n",
    "from pathlib import Path\n",
    "from pprint import pprint\n",
    "from tqdm import tqdm\n",
    "\n",
    "from byol_pytorch import BYOL\n",
    "from torch import nn\n",
    "from torchvision.models import resnet50\n",
    "from torchvision import transforms\n",
    "from torch.utils.data import DataLoader\n",
    "from torch.utils.data import WeightedRandomSampler\n",
    "\n",
    "# custom imports\n",
    "from fairface_classification import data, utils\n",
    "\n",
    "utils.set_random_seed(42)\n",
    "sns.set_style('whitegrid')\n",
    "sns.set_context('talk')\n",
    "sns.set_palette('colorblind')\n",
    "\n",
    "%matplotlib inline\n",
    "%load_ext autoreload\n",
    "%autoreload 2"
   ]
  },
  {
   "cell_type": "code",
   "execution_count": 2,
   "metadata": {},
   "outputs": [
    {
     "data": {
      "text/html": [
       "<div>\n",
       "<style scoped>\n",
       "    .dataframe tbody tr th:only-of-type {\n",
       "        vertical-align: middle;\n",
       "    }\n",
       "\n",
       "    .dataframe tbody tr th {\n",
       "        vertical-align: top;\n",
       "    }\n",
       "\n",
       "    .dataframe thead th {\n",
       "        text-align: right;\n",
       "    }\n",
       "</style>\n",
       "<table border=\"1\" class=\"dataframe\">\n",
       "  <thead>\n",
       "    <tr style=\"text-align: right;\">\n",
       "      <th></th>\n",
       "      <th>file</th>\n",
       "      <th>age</th>\n",
       "      <th>gender</th>\n",
       "      <th>race</th>\n",
       "      <th>service_test</th>\n",
       "    </tr>\n",
       "  </thead>\n",
       "  <tbody>\n",
       "    <tr>\n",
       "      <th>0</th>\n",
       "      <td>train/1.jpg</td>\n",
       "      <td>50-59</td>\n",
       "      <td>Male</td>\n",
       "      <td>East Asian</td>\n",
       "      <td>True</td>\n",
       "    </tr>\n",
       "    <tr>\n",
       "      <th>1</th>\n",
       "      <td>train/2.jpg</td>\n",
       "      <td>30-39</td>\n",
       "      <td>Female</td>\n",
       "      <td>Indian</td>\n",
       "      <td>False</td>\n",
       "    </tr>\n",
       "    <tr>\n",
       "      <th>2</th>\n",
       "      <td>train/3.jpg</td>\n",
       "      <td>3-9</td>\n",
       "      <td>Female</td>\n",
       "      <td>Black</td>\n",
       "      <td>False</td>\n",
       "    </tr>\n",
       "    <tr>\n",
       "      <th>3</th>\n",
       "      <td>train/4.jpg</td>\n",
       "      <td>20-29</td>\n",
       "      <td>Female</td>\n",
       "      <td>Indian</td>\n",
       "      <td>True</td>\n",
       "    </tr>\n",
       "    <tr>\n",
       "      <th>4</th>\n",
       "      <td>train/5.jpg</td>\n",
       "      <td>20-29</td>\n",
       "      <td>Female</td>\n",
       "      <td>Indian</td>\n",
       "      <td>True</td>\n",
       "    </tr>\n",
       "  </tbody>\n",
       "</table>\n",
       "</div>"
      ],
      "text/plain": [
       "          file    age  gender        race  service_test\n",
       "0  train/1.jpg  50-59    Male  East Asian          True\n",
       "1  train/2.jpg  30-39  Female      Indian         False\n",
       "2  train/3.jpg    3-9  Female       Black         False\n",
       "3  train/4.jpg  20-29  Female      Indian          True\n",
       "4  train/5.jpg  20-29  Female      Indian          True"
      ]
     },
     "execution_count": 2,
     "metadata": {},
     "output_type": "execute_result"
    }
   ],
   "source": [
    "train_label = pd.read_csv('../data/fairface_label_train.csv')\n",
    "resnet = resnet50(weights='IMAGENET1K_V1')\n",
    "train_label.head()"
   ]
  },
  {
   "cell_type": "code",
   "execution_count": 3,
   "metadata": {},
   "outputs": [
    {
     "data": {
      "text/plain": [
       "<All keys matched successfully>"
      ]
     },
     "execution_count": 3,
     "metadata": {},
     "output_type": "execute_result"
    }
   ],
   "source": [
    "resnet.load_state_dict(torch.load('../models/improved-net.pt'))"
   ]
  },
  {
   "cell_type": "code",
   "execution_count": 4,
   "metadata": {},
   "outputs": [
    {
     "name": "stdout",
     "output_type": "stream",
     "text": [
      "{'age': {'0-2': 0,\n",
      "         '10-19': 2,\n",
      "         '20-29': 3,\n",
      "         '3-9': 1,\n",
      "         '30-39': 4,\n",
      "         '40-49': 5,\n",
      "         '50-59': 6,\n",
      "         '60-69': 7,\n",
      "         'more than 70': 8},\n",
      " 'gender': {'Female': 1, 'Male': 0},\n",
      " 'race': {'Black': 4,\n",
      "          'East Asian': 3,\n",
      "          'Indian': 2,\n",
      "          'Latino_Hispanic': 1,\n",
      "          'Middle Eastern': 6,\n",
      "          'Southeast Asian': 5,\n",
      "          'White': 0}}\n"
     ]
    }
   ],
   "source": [
    "race_dict = data.read_json('../data/encodings/race_encoding.json')\n",
    "gender_dict = data.read_json('../data/encodings/gender_encoding.json')\n",
    "age_dict = data.read_json('../data/encodings/age_encoding.json')\n",
    "\n",
    "encoders = {'race' : race_dict, 'age' : age_dict, 'gender' : gender_dict}\n",
    "pprint(encoders)"
   ]
  },
  {
   "cell_type": "code",
   "execution_count": 5,
   "metadata": {},
   "outputs": [
    {
     "name": "stdout",
     "output_type": "stream",
     "text": [
      "       age: 1.50\n",
      "      race: 1.17\n",
      "    gender: 0.33\n"
     ]
    }
   ],
   "source": [
    "train_samples = json.load(open('../train_test_val.json'))['train']\n",
    "label_train_test = pd.read_csv('../data/fairface_label_train.csv')\n",
    "\n",
    "class_weights = utils.calc_tasks_weight({'age' : age_dict, \n",
    "                                         'gender' : gender_dict, \n",
    "                                         'race' : race_dict})\n",
    "train_labels = utils.calc_category_weights(train_samples, label_train_test, \n",
    "                                           {'age_dict' : age_dict, \n",
    "                                            'race_dict' : race_dict, \n",
    "                                            'gender_dict' : gender_dict})"
   ]
  },
  {
   "cell_type": "code",
   "execution_count": 6,
   "metadata": {},
   "outputs": [
    {
     "data": {
      "text/html": [
       "<div>\n",
       "<style scoped>\n",
       "    .dataframe tbody tr th:only-of-type {\n",
       "        vertical-align: middle;\n",
       "    }\n",
       "\n",
       "    .dataframe tbody tr th {\n",
       "        vertical-align: top;\n",
       "    }\n",
       "\n",
       "    .dataframe thead th {\n",
       "        text-align: right;\n",
       "    }\n",
       "</style>\n",
       "<table border=\"1\" class=\"dataframe\">\n",
       "  <thead>\n",
       "    <tr style=\"text-align: right;\">\n",
       "      <th></th>\n",
       "      <th>file</th>\n",
       "      <th>age</th>\n",
       "      <th>gender</th>\n",
       "      <th>race</th>\n",
       "      <th>group</th>\n",
       "      <th>count</th>\n",
       "      <th>group_weight</th>\n",
       "    </tr>\n",
       "  </thead>\n",
       "  <tbody>\n",
       "    <tr>\n",
       "      <th>0</th>\n",
       "      <td>train/1.jpg</td>\n",
       "      <td>6</td>\n",
       "      <td>0</td>\n",
       "      <td>3</td>\n",
       "      <td>603</td>\n",
       "      <td>272</td>\n",
       "      <td>0.003676</td>\n",
       "    </tr>\n",
       "    <tr>\n",
       "      <th>1</th>\n",
       "      <td>train/2.jpg</td>\n",
       "      <td>4</td>\n",
       "      <td>1</td>\n",
       "      <td>2</td>\n",
       "      <td>412</td>\n",
       "      <td>931</td>\n",
       "      <td>0.001074</td>\n",
       "    </tr>\n",
       "    <tr>\n",
       "      <th>2</th>\n",
       "      <td>train/4.jpg</td>\n",
       "      <td>3</td>\n",
       "      <td>1</td>\n",
       "      <td>2</td>\n",
       "      <td>312</td>\n",
       "      <td>1347</td>\n",
       "      <td>0.000742</td>\n",
       "    </tr>\n",
       "    <tr>\n",
       "      <th>3</th>\n",
       "      <td>train/5.jpg</td>\n",
       "      <td>3</td>\n",
       "      <td>1</td>\n",
       "      <td>2</td>\n",
       "      <td>312</td>\n",
       "      <td>1347</td>\n",
       "      <td>0.000742</td>\n",
       "    </tr>\n",
       "    <tr>\n",
       "      <th>4</th>\n",
       "      <td>train/7.jpg</td>\n",
       "      <td>5</td>\n",
       "      <td>0</td>\n",
       "      <td>6</td>\n",
       "      <td>506</td>\n",
       "      <td>961</td>\n",
       "      <td>0.001041</td>\n",
       "    </tr>\n",
       "  </tbody>\n",
       "</table>\n",
       "</div>"
      ],
      "text/plain": [
       "          file  age  gender  race group  count  group_weight\n",
       "0  train/1.jpg    6       0     3   603    272      0.003676\n",
       "1  train/2.jpg    4       1     2   412    931      0.001074\n",
       "2  train/4.jpg    3       1     2   312   1347      0.000742\n",
       "3  train/5.jpg    3       1     2   312   1347      0.000742\n",
       "4  train/7.jpg    5       0     6   506    961      0.001041"
      ]
     },
     "execution_count": 6,
     "metadata": {},
     "output_type": "execute_result"
    }
   ],
   "source": [
    "def group_class_weight(labels):\n",
    "    \"\"\"\n",
    "    It is another way of calculation of image weight for oversampling technique.\n",
    "\n",
    "    Args:\n",
    "        labels: pd.DataFrame - dataframe with filenames and its labels.\n",
    "    Returns:\n",
    "        labels: pd.DataFrame - dataframe with calculated weights for every file and its labels.\n",
    "    \"\"\"\n",
    "\n",
    "    labels['group'] = labels.apply(lambda x: f'{x[\"age\"]}{x[\"gender\"]}{x[\"race\"]}', axis=1)\n",
    "    group_vc = labels['group'].value_counts()\n",
    "    group_counts = group_vc.to_frame().reset_index()\n",
    "    labels = labels.merge(group_counts, on='group', how='left') \n",
    "    labels['group_weight'] = 1 / labels['count']\n",
    "    return labels\n",
    "\n",
    "train_labels = group_class_weight(train_labels)\n",
    "train_labels = train_labels.drop(['age_weight', 'gender_weight', 'race_weight', 'total_weight'], \n",
    "                                 axis=1)\n",
    "train_labels.head()"
   ]
  },
  {
   "cell_type": "code",
   "execution_count": 7,
   "metadata": {},
   "outputs": [],
   "source": [
    "root_dir = Path('..')\n",
    "images_dir = 'data/'\n",
    "\n",
    "# Set the batch size for 64 samples\n",
    "batch_size = 8\n",
    "\n",
    "sampler = WeightedRandomSampler(weights=train_labels['group_weight'], num_samples=len(train_labels), replacement=True)\n",
    "\n",
    "# Create a FairFaceDataset object for the training data.\n",
    "fairface_train = data.FairFaceDataset('fairface_label_train.csv', \n",
    "                                        root_dir=root_dir, \n",
    "                                        mode='train',\n",
    "                                        encoders=encoders,\n",
    "                                        transform=transforms.Compose([transforms.ToTensor(),\n",
    "                                                                      transforms.Resize((224, 224))\n",
    "                                                                      ]))\n",
    "# Set the FairFaceDataset object to train mode.\n",
    "fairface_train.train()\n",
    "# Create a DataLoader object for the training data.\n",
    "train_loader = DataLoader(fairface_train, batch_size=batch_size, num_workers=5, sampler=sampler)\n",
    "\n",
    "# Create a FairFaceDataset object for the test data.\n",
    "fairface_test = data.FairFaceDataset('fairface_label_train.csv', \n",
    "                                     root_dir=root_dir, \n",
    "                                     mode='test',\n",
    "                                     encoders=encoders,\n",
    "                                     transform=transforms.Compose([transforms.ToTensor(),\n",
    "                                                                      transforms.Resize((224, 224))\n",
    "                                                                      ]))\n",
    "# Set the FairFaceDataset object to train mode.\n",
    "fairface_test.train()\n",
    "# Create a DataLoader object for the test data.\n",
    "test_loader = DataLoader(fairface_test, batch_size=batch_size, shuffle=True, num_workers=5)\n",
    "\n",
    "# Create a FairFaceDataset object for the validation data.\n",
    "fairface_val = data.FairFaceDataset('fairface_label_val.csv', \n",
    "                                     root_dir=root_dir, \n",
    "                                     mode='val',\n",
    "                                     encoders=encoders,\n",
    "                                     transform=transforms.Compose([transforms.ToTensor(),\n",
    "                                                                   transforms.Resize((224, 224))\n",
    "                                                                   ]))\n",
    "# Set the FairFaceDataset object to train mode.\n",
    "fairface_val.train()\n",
    "# Create a DataLoader object for the validation data.\n",
    "val_loader = DataLoader(fairface_val, batch_size=batch_size, shuffle=True, num_workers=5)"
   ]
  },
  {
   "cell_type": "markdown",
   "metadata": {},
   "source": [
    "### Train the backbone of ResNet50 on FairFace with Contrastive Learning"
   ]
  },
  {
   "cell_type": "code",
   "execution_count": 10,
   "metadata": {},
   "outputs": [
    {
     "name": "stderr",
     "output_type": "stream",
     "text": [
      "  0%|          | 0/2169 [00:00<?, ?it/s]"
     ]
    },
    {
     "name": "stderr",
     "output_type": "stream",
     "text": [
      "Computing features:   2%|▏         | 50/2169 [00:07<05:35,  6.32it/s]\n"
     ]
    },
    {
     "name": "stdout",
     "output_type": "stream",
     "text": [
      "same_class: 0.80\n",
      "diff_class: 0.79\n"
     ]
    },
    {
     "data": {
      "image/png": "[encoded data removed]",
      "text/plain": [
       "<Figure size 1000x500 with 1 Axes>"
      ]
     },
     "metadata": {},
     "output_type": "display_data"
    }
   ],
   "source": [
    "age_interest = range(2, 6)\n",
    "\n",
    "def compute_cosine_similarity(a, b):\n",
    "    \"\"\"\n",
    "    Compute the cosine similarity between two arrays.\n",
    "\n",
    "    Args:\n",
    "        a: np.ndarray - the first array.\n",
    "        b: np.ndarray - the second array.\n",
    "\n",
    "    Returns:\n",
    "        float - the cosine similarity between the two arrays.\n",
    "    \"\"\"\n",
    "    a = a.cpu().data.numpy()\n",
    "    b = b.cpu().data.numpy()\n",
    "\n",
    "    dot_product = np.dot(a, b)\n",
    "    norm_a = np.linalg.norm(a)\n",
    "    norm_b = np.linalg.norm(b)\n",
    "    similarity = dot_product / (norm_a * norm_b)\n",
    "    return similarity\n",
    "\n",
    "def compute_features(model, image_batch):\n",
    "    \"\"\"\n",
    "    Compute the features for the given batch of images.\n",
    "\n",
    "    Args:\n",
    "        model: torch.nn.Module - the model to compute the features for.\n",
    "        batch: torch.Tensor - the batch of images.\n",
    "    Returns:\n",
    "        features: torch.Tensor - the features for the given batch of images.\n",
    "    \"\"\"\n",
    "    with torch.no_grad():\n",
    "        mod_model = nn.Sequential(*(list(model.children())[:-1])).cuda()\n",
    "        features = mod_model(image_batch)\n",
    "        features = features.view(features.size(0), -1)\n",
    "    return features\n",
    "\n",
    "def build_cosine_hist(similarities):\n",
    "    \"\"\"\n",
    "    This function creates a histogram of cosine similarities, where the histogram is split into two parts: one for similarities between images of the same class, and one for similarities between images of different classes.\n",
    "\n",
    "    Args:\n",
    "        similarities (dict): a dictionary containing two keys: 'same_class' and 'diff_class', each containing a list of cosine similarities between pairs of images.\n",
    "\n",
    "    Returns:\n",
    "        fig (matplotlib.figure.Figure): the histogram figure.\n",
    "        ax (matplotlib.axes._subplots.AxesSubplot): the histogram axes.\n",
    "\n",
    "    \"\"\"\n",
    "    data = pd.DataFrame({'Cosine Similarity' : similarities['same_class'] + similarities['diff_class'], \n",
    "                         'Same' : [1 for i in range(len(similarities['same_class']))] + \n",
    "                                  [0 for i in range(len(similarities['diff_class']))]})\n",
    "    \n",
    "    fig, ax = plt.subplots(figsize=(10, 5))\n",
    "    sns.histplot(x='Cosine Similarity', hue='Same', data=data, bins=100)\n",
    "    ax.set_xlabel('Cosine Similarity')\n",
    "    plt.tight_layout()\n",
    "    plt.show()\n",
    "    \n",
    "    return fig, ax\n",
    "\n",
    "def compute_difference(loader, model, age_interest):\n",
    "    \"\"\"\n",
    "    Compute the difference between age classes.\n",
    "\n",
    "    Args:\n",
    "        loader (DataLoader): the DataLoader object for the data.\n",
    "        model (torch.nn.Module): the model used to extract features.\n",
    "        age_interest (list): the ages of interest.\n",
    "\n",
    "    Returns:\n",
    "        age_features (dict): a dictionary of age classes and their features.\n",
    "\n",
    "    \"\"\"\n",
    "    age_features = {i : [] for i in age_interest}\n",
    "\n",
    "    pbar = tqdm(loader)\n",
    "    for k, batch in enumerate(pbar):\n",
    "        age_batch = [int(i) for i in batch['age']]\n",
    "        image_batch = batch['image'].cuda()\n",
    "        features = compute_features(model, image_batch)\n",
    "        for i in range(features.size(0)):\n",
    "            cur_age = age_batch[i]\n",
    "            cur_feature = features[i]\n",
    "\n",
    "            if cur_age in age_interest:\n",
    "                age_features[cur_age].append(cur_feature)\n",
    "        if k == 50:\n",
    "            break\n",
    "        pbar.set_description(f'Computing features')\n",
    "    \n",
    "    similarities = {'same_class' : [], 'diff_class' : []}\n",
    "    age_classes = list(age_features.keys())\n",
    "\n",
    "    for k in age_features.keys():\n",
    "        for i in age_features[k]:\n",
    "            for j in age_features[k]:\n",
    "                if not torch.equal(i, j):\n",
    "                    similarities['same_class'].append(compute_cosine_similarity(i, j))\n",
    "\n",
    "    for i in range(len(age_classes)):\n",
    "        cur_age = age_classes[i]\n",
    "        for j in range(i + 1, len(age_classes)):\n",
    "            next_age = age_classes[j]\n",
    "\n",
    "            for q in age_features[cur_age]:\n",
    "                for k in age_features[next_age]:\n",
    "                    similarities['diff_class'].append(compute_cosine_similarity(q, k))\n",
    "\n",
    "    for key, value in similarities.items():\n",
    "        print(f'{key:>10}: {np.mean(value):.2f}')\n",
    "    return age_features, similarities"
   ]
  },
  {
   "cell_type": "code",
   "execution_count": 11,
   "metadata": {},
   "outputs": [
    {
     "name": "stdout",
     "output_type": "stream",
     "text": [
      "Epoch = 0\n"
     ]
    },
    {
     "name": "stderr",
     "output_type": "stream",
     "text": [
      "epoch: 0, loss: 1.230719804763794:   0%|          | 15/8675 [00:13<2:12:07,  1.09it/s] \n"
     ]
    },
    {
     "name": "stdout",
     "output_type": "stream",
     "text": [
      "Epoch 1/5, Loss: 0.0027\n"
     ]
    },
    {
     "name": "stderr",
     "output_type": "stream",
     "text": [
      "Computing features:   2%|▏         | 50/2169 [00:18<13:06,  2.70it/s]\n"
     ]
    },
    {
     "name": "stdout",
     "output_type": "stream",
     "text": [
      "same_class: 0.81\n",
      "diff_class: 0.81\n"
     ]
    },
    {
     "data": {
      "image/png": "[encoded data removed]",
      "text/plain": [
       "<Figure size 1000x500 with 1 Axes>"
      ]
     },
     "metadata": {},
     "output_type": "display_data"
    },
    {
     "name": "stdout",
     "output_type": "stream",
     "text": [
      "Epoch = 1\n"
     ]
    },
    {
     "name": "stderr",
     "output_type": "stream",
     "text": [
      "epoch: 1, loss: 0.8999321460723877:   0%|          | 15/8675 [00:35<5:42:03,  2.37s/it]\n"
     ]
    },
    {
     "name": "stdout",
     "output_type": "stream",
     "text": [
      "Epoch 2/5, Loss: 0.0017\n"
     ]
    },
    {
     "name": "stderr",
     "output_type": "stream",
     "text": [
      "Computing features:   2%|▏         | 50/2169 [00:17<12:16,  2.88it/s]\n"
     ]
    },
    {
     "ename": "KeyboardInterrupt",
     "evalue": "",
     "output_type": "error",
     "traceback": [
      "\u001b[0;31m---------------------------------------------------------------------------\u001b[0m",
      "\u001b[0;31mKeyboardInterrupt\u001b[0m                         Traceback (most recent call last)",
      "Cell \u001b[0;32mIn[11], line 44\u001b[0m\n\u001b[1;32m     40\u001b[0m     average_loss \u001b[38;5;241m=\u001b[39m running_loss \u001b[38;5;241m/\u001b[39m \u001b[38;5;28mlen\u001b[39m(train_loader)\n\u001b[1;32m     41\u001b[0m     \u001b[38;5;28mprint\u001b[39m(\u001b[38;5;124mf\u001b[39m\u001b[38;5;124m\"\u001b[39m\u001b[38;5;124mEpoch \u001b[39m\u001b[38;5;132;01m{\u001b[39;00mepoch\u001b[38;5;241m+\u001b[39m\u001b[38;5;241m1\u001b[39m\u001b[38;5;132;01m}\u001b[39;00m\u001b[38;5;124m/\u001b[39m\u001b[38;5;132;01m{\u001b[39;00mnum_epochs\u001b[38;5;132;01m}\u001b[39;00m\u001b[38;5;124m, Loss: \u001b[39m\u001b[38;5;132;01m{\u001b[39;00maverage_loss\u001b[38;5;132;01m:\u001b[39;00m\u001b[38;5;124m.4f\u001b[39m\u001b[38;5;132;01m}\u001b[39;00m\u001b[38;5;124m\"\u001b[39m)\n\u001b[0;32m---> 44\u001b[0m     features, sims \u001b[38;5;241m=\u001b[39m \u001b[43mcompute_difference\u001b[49m\u001b[43m(\u001b[49m\u001b[43mtest_loader\u001b[49m\u001b[43m,\u001b[49m\u001b[43m \u001b[49m\u001b[43mresnet\u001b[49m\u001b[43m,\u001b[49m\u001b[43m \u001b[49m\u001b[43mage_interest\u001b[49m\u001b[43m)\u001b[49m\n\u001b[1;32m     45\u001b[0m     fig, ax \u001b[38;5;241m=\u001b[39m build_cosine_hist(sims)\n\u001b[1;32m     47\u001b[0m utils\u001b[38;5;241m.\u001b[39mcreate_models_dir()\n",
      "Cell \u001b[0;32mIn[10], line 98\u001b[0m, in \u001b[0;36mcompute_difference\u001b[0;34m(loader, model, age_interest)\u001b[0m\n\u001b[1;32m     96\u001b[0m         \u001b[38;5;28;01mfor\u001b[39;00m q \u001b[38;5;129;01min\u001b[39;00m age_features[cur_age]:\n\u001b[1;32m     97\u001b[0m             \u001b[38;5;28;01mfor\u001b[39;00m k \u001b[38;5;129;01min\u001b[39;00m age_features[next_age]:\n\u001b[0;32m---> 98\u001b[0m                 similarities[\u001b[38;5;124m'\u001b[39m\u001b[38;5;124mdiff_class\u001b[39m\u001b[38;5;124m'\u001b[39m]\u001b[38;5;241m.\u001b[39mappend(\u001b[43mcompute_cosine_similarity\u001b[49m\u001b[43m(\u001b[49m\u001b[43mq\u001b[49m\u001b[43m,\u001b[49m\u001b[43m \u001b[49m\u001b[43mk\u001b[49m\u001b[43m)\u001b[49m)\n\u001b[1;32m    100\u001b[0m \u001b[38;5;28;01mfor\u001b[39;00m key, value \u001b[38;5;129;01min\u001b[39;00m similarities\u001b[38;5;241m.\u001b[39mitems():\n\u001b[1;32m    101\u001b[0m     \u001b[38;5;28mprint\u001b[39m(\u001b[38;5;124mf\u001b[39m\u001b[38;5;124m'\u001b[39m\u001b[38;5;132;01m{\u001b[39;00mkey\u001b[38;5;132;01m:\u001b[39;00m\u001b[38;5;124m>10\u001b[39m\u001b[38;5;132;01m}\u001b[39;00m\u001b[38;5;124m: \u001b[39m\u001b[38;5;132;01m{\u001b[39;00mnp\u001b[38;5;241m.\u001b[39mmean(value)\u001b[38;5;132;01m:\u001b[39;00m\u001b[38;5;124m.2f\u001b[39m\u001b[38;5;132;01m}\u001b[39;00m\u001b[38;5;124m'\u001b[39m)\n",
      "Cell \u001b[0;32mIn[10], line 14\u001b[0m, in \u001b[0;36mcompute_cosine_similarity\u001b[0;34m(a, b)\u001b[0m\n\u001b[1;32m      3\u001b[0m \u001b[38;5;28;01mdef\u001b[39;00m \u001b[38;5;21mcompute_cosine_similarity\u001b[39m(a, b):\n\u001b[1;32m      4\u001b[0m \u001b[38;5;250m    \u001b[39m\u001b[38;5;124;03m\"\"\"\u001b[39;00m\n\u001b[1;32m      5\u001b[0m \u001b[38;5;124;03m    Compute the cosine similarity between two arrays.\u001b[39;00m\n\u001b[1;32m      6\u001b[0m \n\u001b[0;32m   (...)\u001b[0m\n\u001b[1;32m     12\u001b[0m \u001b[38;5;124;03m        float - the cosine similarity between the two arrays.\u001b[39;00m\n\u001b[1;32m     13\u001b[0m \u001b[38;5;124;03m    \"\"\"\u001b[39;00m\n\u001b[0;32m---> 14\u001b[0m     a \u001b[38;5;241m=\u001b[39m \u001b[43ma\u001b[49m\u001b[38;5;241;43m.\u001b[39;49m\u001b[43mcpu\u001b[49m\u001b[43m(\u001b[49m\u001b[43m)\u001b[49m\u001b[38;5;241m.\u001b[39mdata\u001b[38;5;241m.\u001b[39mnumpy()\n\u001b[1;32m     15\u001b[0m     b \u001b[38;5;241m=\u001b[39m b\u001b[38;5;241m.\u001b[39mcpu()\u001b[38;5;241m.\u001b[39mdata\u001b[38;5;241m.\u001b[39mnumpy()\n\u001b[1;32m     17\u001b[0m     dot_product \u001b[38;5;241m=\u001b[39m np\u001b[38;5;241m.\u001b[39mdot(a, b)\n",
      "\u001b[0;31mKeyboardInterrupt\u001b[0m: "
     ]
    }
   ],
   "source": [
    "utils.create_models_dir()\n",
    "\n",
    "device = torch.device(\"cuda:0\" if torch.cuda.is_available() else \"cpu\")\n",
    "\n",
    "resnet = resnet.to(device)\n",
    "\n",
    "learner = BYOL(\n",
    "    resnet,\n",
    "    image_size=224\n",
    ")\n",
    "learner = learner.cuda()\n",
    "opt = torch.optim.Adam(learner.parameters(), lr=3e-4)\n",
    "# Training loop\n",
    "hist = []\n",
    "num_epochs = 15\n",
    "for epoch in range(num_epochs):\n",
    "    print(f'Epoch = {epoch}')\n",
    "    running_loss = 0.0\n",
    "    hist.append(list())\n",
    "    pbar = tqdm(train_loader)\n",
    "    for samples in pbar:\n",
    "        images = samples['image'].to(device)\n",
    "        loss = learner(images)\n",
    "        opt.zero_grad()\n",
    "        loss.backward()\n",
    "        opt.step()\n",
    "        learner.update_moving_average() # update moving average of target encoder\n",
    "\n",
    "        hist[-1].append(loss.item())\n",
    "        pbar.set_description(f\"epoch: {epoch}, loss: {loss.item()}\")\n",
    "\n",
    "        running_loss += loss.item()\n",
    "\n",
    "    # Print the average loss for the epoch\n",
    "    average_loss = running_loss / len(train_loader)\n",
    "    print(f\"Epoch {epoch+1}/{num_epochs}, Loss: {average_loss:.4f}\")\n",
    "\n",
    "    \n",
    "    features, sims = compute_difference(test_loader, resnet, age_interest)\n",
    "    fig, ax = build_cosine_hist(sims)\n",
    "\n",
    "# save your improved network\n",
    "torch.save(resnet.state_dict(), '../models/improved-net.pt')"
   ]
  },
  {
   "cell_type": "markdown",
   "metadata": {},
   "source": [
    "### Train the fitted on backbone model"
   ]
  },
  {
   "cell_type": "code",
   "execution_count": null,
   "metadata": {},
   "outputs": [],
   "source": [
    "# device = torch.device(\"cuda:0\" if torch.cuda.is_available() else \"cpu\")\n",
    "# resnet = resnet.to(device)\n",
    "# model = resnet_model.FairFaceResNet(resnet).to(device)\n",
    "\n",
    "# # For race and age classes\n",
    "# bce = nn.BCELoss().to(device)\n",
    "# criterion = nn.CrossEntr opyLoss().to(device)\n",
    "# optimizer = optim.Adam(model.parameters(), lr=1e-4)\n",
    "# scheduler = lr_scheduler.MultiStepLR(optimizer, milestones=[5, 10, 15, 20, 25], gamma=0.5, verbose=True)"
   ]
  }
 ],
 "metadata": {
  "kernelspec": {
   "display_name": ".venv",
   "language": "python",
   "name": "python3"
  },
  "language_info": {
   "codemirror_mode": {
    "name": "ipython",
    "version": 3
   },
   "file_extension": ".py",
   "mimetype": "text/x-python",
   "name": "python",
   "nbconvert_exporter": "python",
   "pygments_lexer": "ipython3",
   "version": "3.9.12"
  }
 },
 "nbformat": 4,
 "nbformat_minor": 4
}
