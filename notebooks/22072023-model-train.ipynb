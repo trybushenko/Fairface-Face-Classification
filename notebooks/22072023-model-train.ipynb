{
 "cells": [
  {
   "cell_type": "code",
   "execution_count": 1,
   "metadata": {},
   "outputs": [],
   "source": [
    "import numpy as np\n",
    "import pandas as pd\n",
    "import matplotlib.pyplot as plt\n",
    "import os\n",
    "\n",
    "import json\n",
    "\n",
    "import torchvision\n",
    "import torch\n",
    "\n",
    "from pathlib import Path\n",
    "from PIL import Image\n",
    "from pprint import pprint\n",
    "from tqdm import tqdm\n",
    "\n",
    "from torch import nn, optim\n",
    "from torchvision.models import mobilenet_v3_large\n",
    "from torchvision import transforms\n",
    "from torch.utils.data import DataLoader\n",
    "from torch.optim import lr_scheduler\n",
    "from torch.utils.tensorboard import SummaryWriter\n",
    "from torch.utils.data import WeightedRandomSampler\n",
    "\n",
    "# custom imports\n",
    "from fairface_classification import data, mobilenetv3, utils, metrics, train\n",
    "\n",
    "# launch tensorboard writer\n",
    "writer = SummaryWriter('../runs/fairface/')\n",
    "\n",
    "utils.set_random_seed(42)\n",
    "\n",
    "%matplotlib inline\n",
    "%load_ext autoreload\n",
    "%autoreload 2"
   ]
  },
  {
   "cell_type": "markdown",
   "metadata": {},
   "source": [
    "### The following is the model architecture I am going to train on FairFace Dataset\n",
    "\n",
    "Almost the whole model and its architecture - Mobile Net V3 Large pretrained on ImageNet dataset. The last layer is modified and adapted to current FairFace dataset. There are just 3 classes that should predicted at the same time, so the last layer of the model will have three \"heads\"."
   ]
  },
  {
   "cell_type": "code",
   "execution_count": 2,
   "metadata": {},
   "outputs": [],
   "source": [
    "show_pic = False\n",
    "\n",
    "if show_pic:\n",
    "    Image.open('../model_architecture.png')"
   ]
  },
  {
   "cell_type": "code",
   "execution_count": 3,
   "metadata": {},
   "outputs": [
    {
     "data": {
      "text/html": [
       "<div>\n",
       "<style scoped>\n",
       "    .dataframe tbody tr th:only-of-type {\n",
       "        vertical-align: middle;\n",
       "    }\n",
       "\n",
       "    .dataframe tbody tr th {\n",
       "        vertical-align: top;\n",
       "    }\n",
       "\n",
       "    .dataframe thead th {\n",
       "        text-align: right;\n",
       "    }\n",
       "</style>\n",
       "<table border=\"1\" class=\"dataframe\">\n",
       "  <thead>\n",
       "    <tr style=\"text-align: right;\">\n",
       "      <th></th>\n",
       "      <th>file</th>\n",
       "      <th>age</th>\n",
       "      <th>gender</th>\n",
       "      <th>race</th>\n",
       "      <th>service_test</th>\n",
       "    </tr>\n",
       "  </thead>\n",
       "  <tbody>\n",
       "    <tr>\n",
       "      <th>0</th>\n",
       "      <td>train/1.jpg</td>\n",
       "      <td>50-59</td>\n",
       "      <td>Male</td>\n",
       "      <td>East Asian</td>\n",
       "      <td>True</td>\n",
       "    </tr>\n",
       "    <tr>\n",
       "      <th>1</th>\n",
       "      <td>train/2.jpg</td>\n",
       "      <td>30-39</td>\n",
       "      <td>Female</td>\n",
       "      <td>Indian</td>\n",
       "      <td>False</td>\n",
       "    </tr>\n",
       "    <tr>\n",
       "      <th>2</th>\n",
       "      <td>train/3.jpg</td>\n",
       "      <td>3-9</td>\n",
       "      <td>Female</td>\n",
       "      <td>Black</td>\n",
       "      <td>False</td>\n",
       "    </tr>\n",
       "    <tr>\n",
       "      <th>3</th>\n",
       "      <td>train/4.jpg</td>\n",
       "      <td>20-29</td>\n",
       "      <td>Female</td>\n",
       "      <td>Indian</td>\n",
       "      <td>True</td>\n",
       "    </tr>\n",
       "    <tr>\n",
       "      <th>4</th>\n",
       "      <td>train/5.jpg</td>\n",
       "      <td>20-29</td>\n",
       "      <td>Female</td>\n",
       "      <td>Indian</td>\n",
       "      <td>True</td>\n",
       "    </tr>\n",
       "  </tbody>\n",
       "</table>\n",
       "</div>"
      ],
      "text/plain": [
       "          file    age  gender        race  service_test\n",
       "0  train/1.jpg  50-59    Male  East Asian          True\n",
       "1  train/2.jpg  30-39  Female      Indian         False\n",
       "2  train/3.jpg    3-9  Female       Black         False\n",
       "3  train/4.jpg  20-29  Female      Indian          True\n",
       "4  train/5.jpg  20-29  Female      Indian          True"
      ]
     },
     "execution_count": 3,
     "metadata": {},
     "output_type": "execute_result"
    }
   ],
   "source": [
    "train_label = pd.read_csv('../data/fairface_label_train.csv')\n",
    "mobilenet = mobilenet_v3_large(weights='IMAGENET1K_V1')\n",
    "train_label.head()"
   ]
  },
  {
   "cell_type": "markdown",
   "metadata": {},
   "source": [
    "### Initialize Dataset and Dataloader"
   ]
  },
  {
   "cell_type": "code",
   "execution_count": 4,
   "metadata": {},
   "outputs": [
    {
     "name": "stdout",
     "output_type": "stream",
     "text": [
      "{'age': {'0-2': 0,\n",
      "         '10-19': 2,\n",
      "         '20-29': 3,\n",
      "         '3-9': 1,\n",
      "         '30-39': 4,\n",
      "         '40-49': 5,\n",
      "         '50-59': 6,\n",
      "         '60-69': 7,\n",
      "         'more than 70': 8},\n",
      " 'gender': {'Female': 1, 'Male': 0},\n",
      " 'race': {'Black': 4,\n",
      "          'East Asian': 3,\n",
      "          'Indian': 2,\n",
      "          'Latino_Hispanic': 1,\n",
      "          'Middle Eastern': 6,\n",
      "          'Southeast Asian': 5,\n",
      "          'White': 0}}\n"
     ]
    }
   ],
   "source": [
    "race_dict = data.read_json('../data/encodings/race_encoding.json')\n",
    "gender_dict = data.read_json('../data/encodings/gender_encoding.json')\n",
    "age_dict = data.read_json('../data/encodings/age_encoding.json')\n",
    "\n",
    "encoders = {'race' : race_dict, 'age' : age_dict, 'gender' : gender_dict}\n",
    "pprint(encoders)"
   ]
  },
  {
   "cell_type": "code",
   "execution_count": 5,
   "metadata": {},
   "outputs": [
    {
     "name": "stdout",
     "output_type": "stream",
     "text": [
      "       age: 1.50\n",
      "      race: 1.17\n",
      "    gender: 0.33\n"
     ]
    }
   ],
   "source": [
    "train_samples = json.load(open('../train_test_val.json'))['train']\n",
    "label_train_test = pd.read_csv('../data/fairface_label_train.csv')\n",
    "\n",
    "class_weights = utils.calc_tasks_weight({'age' : age_dict, 'gender' : gender_dict, 'race' : race_dict})\n",
    "train_labels = utils.calc_category_weights(train_samples, label_train_test, {'age_dict' : age_dict, 'race_dict' : race_dict, 'gender_dict' : gender_dict})"
   ]
  },
  {
   "cell_type": "code",
   "execution_count": 6,
   "metadata": {},
   "outputs": [
    {
     "data": {
      "text/html": [
       "<div>\n",
       "<style scoped>\n",
       "    .dataframe tbody tr th:only-of-type {\n",
       "        vertical-align: middle;\n",
       "    }\n",
       "\n",
       "    .dataframe tbody tr th {\n",
       "        vertical-align: top;\n",
       "    }\n",
       "\n",
       "    .dataframe thead th {\n",
       "        text-align: right;\n",
       "    }\n",
       "</style>\n",
       "<table border=\"1\" class=\"dataframe\">\n",
       "  <thead>\n",
       "    <tr style=\"text-align: right;\">\n",
       "      <th></th>\n",
       "      <th>file</th>\n",
       "      <th>age</th>\n",
       "      <th>gender</th>\n",
       "      <th>race</th>\n",
       "      <th>age_weight</th>\n",
       "      <th>gender_weight</th>\n",
       "      <th>race_weight</th>\n",
       "      <th>total_weight</th>\n",
       "      <th>group</th>\n",
       "      <th>count</th>\n",
       "      <th>group_weight</th>\n",
       "    </tr>\n",
       "  </thead>\n",
       "  <tbody>\n",
       "    <tr>\n",
       "      <th>0</th>\n",
       "      <td>train/1.jpg</td>\n",
       "      <td>6</td>\n",
       "      <td>0</td>\n",
       "      <td>3</td>\n",
       "      <td>0.000202</td>\n",
       "      <td>0.000027</td>\n",
       "      <td>0.000102</td>\n",
       "      <td>0.000330</td>\n",
       "      <td>603</td>\n",
       "      <td>272</td>\n",
       "      <td>0.003676</td>\n",
       "    </tr>\n",
       "    <tr>\n",
       "      <th>1</th>\n",
       "      <td>train/2.jpg</td>\n",
       "      <td>4</td>\n",
       "      <td>1</td>\n",
       "      <td>2</td>\n",
       "      <td>0.000065</td>\n",
       "      <td>0.000031</td>\n",
       "      <td>0.000102</td>\n",
       "      <td>0.000197</td>\n",
       "      <td>412</td>\n",
       "      <td>931</td>\n",
       "      <td>0.001074</td>\n",
       "    </tr>\n",
       "    <tr>\n",
       "      <th>2</th>\n",
       "      <td>train/4.jpg</td>\n",
       "      <td>3</td>\n",
       "      <td>1</td>\n",
       "      <td>2</td>\n",
       "      <td>0.000049</td>\n",
       "      <td>0.000031</td>\n",
       "      <td>0.000102</td>\n",
       "      <td>0.000181</td>\n",
       "      <td>312</td>\n",
       "      <td>1347</td>\n",
       "      <td>0.000742</td>\n",
       "    </tr>\n",
       "    <tr>\n",
       "      <th>3</th>\n",
       "      <td>train/5.jpg</td>\n",
       "      <td>3</td>\n",
       "      <td>1</td>\n",
       "      <td>2</td>\n",
       "      <td>0.000049</td>\n",
       "      <td>0.000031</td>\n",
       "      <td>0.000102</td>\n",
       "      <td>0.000181</td>\n",
       "      <td>312</td>\n",
       "      <td>1347</td>\n",
       "      <td>0.000742</td>\n",
       "    </tr>\n",
       "    <tr>\n",
       "      <th>4</th>\n",
       "      <td>train/7.jpg</td>\n",
       "      <td>5</td>\n",
       "      <td>0</td>\n",
       "      <td>6</td>\n",
       "      <td>0.000116</td>\n",
       "      <td>0.000027</td>\n",
       "      <td>0.000136</td>\n",
       "      <td>0.000279</td>\n",
       "      <td>506</td>\n",
       "      <td>961</td>\n",
       "      <td>0.001041</td>\n",
       "    </tr>\n",
       "  </tbody>\n",
       "</table>\n",
       "</div>"
      ],
      "text/plain": [
       "          file  age  gender  race  age_weight  gender_weight  race_weight  \\\n",
       "0  train/1.jpg    6       0     3    0.000202       0.000027     0.000102   \n",
       "1  train/2.jpg    4       1     2    0.000065       0.000031     0.000102   \n",
       "2  train/4.jpg    3       1     2    0.000049       0.000031     0.000102   \n",
       "3  train/5.jpg    3       1     2    0.000049       0.000031     0.000102   \n",
       "4  train/7.jpg    5       0     6    0.000116       0.000027     0.000136   \n",
       "\n",
       "   total_weight group  count  group_weight  \n",
       "0      0.000330   603    272      0.003676  \n",
       "1      0.000197   412    931      0.001074  \n",
       "2      0.000181   312   1347      0.000742  \n",
       "3      0.000181   312   1347      0.000742  \n",
       "4      0.000279   506    961      0.001041  "
      ]
     },
     "execution_count": 6,
     "metadata": {},
     "output_type": "execute_result"
    }
   ],
   "source": [
    "def group_class_weight(labels):\n",
    "    \"\"\"\n",
    "    It is another way of calculation of image weight for oversampling technique.\n",
    "\n",
    "    Args:\n",
    "        labels: pd.DataFrame - dataframe with filenames and its labels.\n",
    "    Returns:\n",
    "        labels: pd.DataFrame - dataframe with calculated weights for every file and its labels.\n",
    "    \"\"\"\n",
    "\n",
    "    labels['group'] = labels.apply(lambda x: f'{x[\"age\"]}{x[\"gender\"]}{x[\"race\"]}', axis=1)\n",
    "    group_vc = labels['group'].value_counts()\n",
    "    group_counts = group_vc.to_frame().reset_index()\n",
    "    labels = labels.merge(group_counts, on='group', how='left') \n",
    "    labels['group_weight'] = 1 / labels['count']\n",
    "    return labels\n",
    "\n",
    "train_labels = group_class_weight(train_labels)\n",
    "train_labels.head()"
   ]
  },
  {
   "cell_type": "code",
   "execution_count": 7,
   "metadata": {},
   "outputs": [
    {
     "data": {
      "text/html": [
       "<div>\n",
       "<style scoped>\n",
       "    .dataframe tbody tr th:only-of-type {\n",
       "        vertical-align: middle;\n",
       "    }\n",
       "\n",
       "    .dataframe tbody tr th {\n",
       "        vertical-align: top;\n",
       "    }\n",
       "\n",
       "    .dataframe thead th {\n",
       "        text-align: right;\n",
       "    }\n",
       "</style>\n",
       "<table border=\"1\" class=\"dataframe\">\n",
       "  <thead>\n",
       "    <tr style=\"text-align: right;\">\n",
       "      <th></th>\n",
       "      <th>file</th>\n",
       "      <th>age</th>\n",
       "      <th>gender</th>\n",
       "      <th>race</th>\n",
       "      <th>group</th>\n",
       "      <th>count</th>\n",
       "      <th>group_weight</th>\n",
       "    </tr>\n",
       "  </thead>\n",
       "  <tbody>\n",
       "    <tr>\n",
       "      <th>0</th>\n",
       "      <td>train/1.jpg</td>\n",
       "      <td>6</td>\n",
       "      <td>0</td>\n",
       "      <td>3</td>\n",
       "      <td>603</td>\n",
       "      <td>272</td>\n",
       "      <td>0.003676</td>\n",
       "    </tr>\n",
       "    <tr>\n",
       "      <th>1</th>\n",
       "      <td>train/2.jpg</td>\n",
       "      <td>4</td>\n",
       "      <td>1</td>\n",
       "      <td>2</td>\n",
       "      <td>412</td>\n",
       "      <td>931</td>\n",
       "      <td>0.001074</td>\n",
       "    </tr>\n",
       "    <tr>\n",
       "      <th>2</th>\n",
       "      <td>train/4.jpg</td>\n",
       "      <td>3</td>\n",
       "      <td>1</td>\n",
       "      <td>2</td>\n",
       "      <td>312</td>\n",
       "      <td>1347</td>\n",
       "      <td>0.000742</td>\n",
       "    </tr>\n",
       "    <tr>\n",
       "      <th>3</th>\n",
       "      <td>train/5.jpg</td>\n",
       "      <td>3</td>\n",
       "      <td>1</td>\n",
       "      <td>2</td>\n",
       "      <td>312</td>\n",
       "      <td>1347</td>\n",
       "      <td>0.000742</td>\n",
       "    </tr>\n",
       "    <tr>\n",
       "      <th>4</th>\n",
       "      <td>train/7.jpg</td>\n",
       "      <td>5</td>\n",
       "      <td>0</td>\n",
       "      <td>6</td>\n",
       "      <td>506</td>\n",
       "      <td>961</td>\n",
       "      <td>0.001041</td>\n",
       "    </tr>\n",
       "    <tr>\n",
       "      <th>...</th>\n",
       "      <td>...</td>\n",
       "      <td>...</td>\n",
       "      <td>...</td>\n",
       "      <td>...</td>\n",
       "      <td>...</td>\n",
       "      <td>...</td>\n",
       "      <td>...</td>\n",
       "    </tr>\n",
       "    <tr>\n",
       "      <th>69390</th>\n",
       "      <td>train/86738.jpg</td>\n",
       "      <td>2</td>\n",
       "      <td>0</td>\n",
       "      <td>2</td>\n",
       "      <td>202</td>\n",
       "      <td>510</td>\n",
       "      <td>0.001961</td>\n",
       "    </tr>\n",
       "    <tr>\n",
       "      <th>69391</th>\n",
       "      <td>train/86741.jpg</td>\n",
       "      <td>2</td>\n",
       "      <td>0</td>\n",
       "      <td>2</td>\n",
       "      <td>202</td>\n",
       "      <td>510</td>\n",
       "      <td>0.001961</td>\n",
       "    </tr>\n",
       "    <tr>\n",
       "      <th>69392</th>\n",
       "      <td>train/86742.jpg</td>\n",
       "      <td>8</td>\n",
       "      <td>1</td>\n",
       "      <td>2</td>\n",
       "      <td>812</td>\n",
       "      <td>93</td>\n",
       "      <td>0.010753</td>\n",
       "    </tr>\n",
       "    <tr>\n",
       "      <th>69393</th>\n",
       "      <td>train/86743.jpg</td>\n",
       "      <td>2</td>\n",
       "      <td>1</td>\n",
       "      <td>4</td>\n",
       "      <td>214</td>\n",
       "      <td>663</td>\n",
       "      <td>0.001508</td>\n",
       "    </tr>\n",
       "    <tr>\n",
       "      <th>69394</th>\n",
       "      <td>train/86744.jpg</td>\n",
       "      <td>5</td>\n",
       "      <td>0</td>\n",
       "      <td>0</td>\n",
       "      <td>500</td>\n",
       "      <td>1104</td>\n",
       "      <td>0.000906</td>\n",
       "    </tr>\n",
       "  </tbody>\n",
       "</table>\n",
       "<p>69395 rows × 7 columns</p>\n",
       "</div>"
      ],
      "text/plain": [
       "                  file  age  gender  race group  count  group_weight\n",
       "0          train/1.jpg    6       0     3   603    272      0.003676\n",
       "1          train/2.jpg    4       1     2   412    931      0.001074\n",
       "2          train/4.jpg    3       1     2   312   1347      0.000742\n",
       "3          train/5.jpg    3       1     2   312   1347      0.000742\n",
       "4          train/7.jpg    5       0     6   506    961      0.001041\n",
       "...                ...  ...     ...   ...   ...    ...           ...\n",
       "69390  train/86738.jpg    2       0     2   202    510      0.001961\n",
       "69391  train/86741.jpg    2       0     2   202    510      0.001961\n",
       "69392  train/86742.jpg    8       1     2   812     93      0.010753\n",
       "69393  train/86743.jpg    2       1     4   214    663      0.001508\n",
       "69394  train/86744.jpg    5       0     0   500   1104      0.000906\n",
       "\n",
       "[69395 rows x 7 columns]"
      ]
     },
     "execution_count": 7,
     "metadata": {},
     "output_type": "execute_result"
    }
   ],
   "source": [
    "train_labels.drop(['age_weight', 'gender_weight', 'race_weight', 'total_weight'], axis=1)"
   ]
  },
  {
   "cell_type": "code",
   "execution_count": 24,
   "metadata": {},
   "outputs": [],
   "source": [
    "root_dir = Path('..')\n",
    "images_dir = 'data/'\n",
    "\n",
    "# Set the batch size for 64 samples\n",
    "batch_size = 480\n",
    "\n",
    "sampler = WeightedRandomSampler(weights=train_labels['group_weight'], num_samples=len(train_labels), replacement=True)\n",
    "\n",
    "# Create a FairFaceDataset object for the training data.\n",
    "fairface_train = data.FairFaceDataset('fairface_label_train.csv', \n",
    "                                        root_dir=root_dir, \n",
    "                                        mode='train',\n",
    "                                        encoders=encoders,\n",
    "                                        transform=transforms.Compose([transforms.ToTensor(),\n",
    "                                                                      transforms.RandomHorizontalFlip(p=0.5),\n",
    "                                                                      transforms.RandomPerspective(p=0.5),\n",
    "                                                                      transforms.RandomGrayscale(p=0.2),\n",
    "                                                                      transforms.RandomAdjustSharpness(2, p=0.5),\n",
    "                                                                      transforms.Normalize(mean=[0.485, 0.456, 0.406], \n",
    "                                                                                           std=[0.229, 0.224, 0.225])\n",
    "                                                                      ]))\n",
    "# Set the FairFaceDataset object to train mode.\n",
    "fairface_train.train()\n",
    "# Create a DataLoader object for the training data.\n",
    "train_loader = DataLoader(fairface_train, batch_size=batch_size, num_workers=5, sampler=sampler)\n",
    "\n",
    "# Create a FairFaceDataset object for the test data.\n",
    "fairface_test = data.FairFaceDataset('fairface_label_train.csv', \n",
    "                                     root_dir=root_dir, \n",
    "                                     mode='test',\n",
    "                                     encoders=encoders,\n",
    "                                     transform=transforms.Compose([transforms.ToTensor(),\n",
    "                                                                   transforms.Normalize(mean=[0.485, 0.456, 0.406], \n",
    "                                                                                        std=[0.229, 0.224, 0.225])]))\n",
    "# Set the FairFaceDataset object to train mode.\n",
    "fairface_test.train()\n",
    "# Create a DataLoader object for the test data.\n",
    "test_loader = DataLoader(fairface_test, batch_size=batch_size, shuffle=True, num_workers=5)\n",
    "\n",
    "# Create a FairFaceDataset object for the validation data.\n",
    "fairface_val = data.FairFaceDataset('fairface_label_val.csv', \n",
    "                                     root_dir=root_dir, \n",
    "                                     mode='val',\n",
    "                                     encoders=encoders,\n",
    "                                     transform=transforms.Compose([transforms.ToTensor(),\n",
    "                                                                   transforms.Normalize(mean=[0.485, 0.456, 0.406], \n",
    "                                                                                        std=[0.229, 0.224, 0.225])]))\n",
    "# Set the FairFaceDataset object to train mode.\n",
    "fairface_val.train()\n",
    "# Create a DataLoader object for the validation data.\n",
    "val_loader = DataLoader(fairface_val, batch_size=batch_size, shuffle=True, num_workers=5)"
   ]
  },
  {
   "cell_type": "code",
   "execution_count": 25,
   "metadata": {},
   "outputs": [],
   "source": [
    "train_label = pd.read_csv('../data/fairface_label_train.csv')\n",
    "val_label = pd.read_csv('../data/fairface_label_val.csv')"
   ]
  },
  {
   "cell_type": "code",
   "execution_count": 26,
   "metadata": {},
   "outputs": [],
   "source": [
    "import json\n",
    "\n",
    "with open('../train_test_val.json', 'r') as f:\n",
    "    train_test = json.load(f)"
   ]
  },
  {
   "cell_type": "code",
   "execution_count": 27,
   "metadata": {},
   "outputs": [
    {
     "name": "stdout",
     "output_type": "stream",
     "text": [
      "Train Age Class Distribution\n",
      "age\n",
      "20-29           0.295108\n",
      "30-39           0.222192\n",
      "40-49           0.124029\n",
      "3-9             0.119980\n",
      "10-19           0.104561\n",
      "50-59           0.071504\n",
      "60-69           0.032178\n",
      "0-2             0.020967\n",
      "more than 70    0.009482\n",
      "\n",
      "Dev Age Class Distribution\n",
      "age\n",
      "20-29           0.295060\n",
      "30-39           0.220820\n",
      "40-49           0.123177\n",
      "3-9             0.120007\n",
      "10-19           0.106461\n",
      "50-59           0.072973\n",
      "60-69           0.031472\n",
      "0-2             0.019425\n",
      "more than 70    0.010606\n",
      "Test Age Class Distribution\n",
      "age\n",
      "20-29           0.301260\n",
      "30-39           0.212708\n",
      "3-9             0.123790\n",
      "40-49           0.123517\n",
      "10-19           0.107814\n",
      "50-59           0.072668\n",
      "60-69           0.029304\n",
      "0-2             0.018167\n",
      "more than 70    0.010772\n"
     ]
    }
   ],
   "source": [
    "print('Train Age Class Distribution')\n",
    "print(train_label.loc[train_label['file'].isin(train_test['train']), 'age'].value_counts(normalize=True).to_string(), end='\\n\\n')\n",
    "print('Dev Age Class Distribution')\n",
    "print(train_label.loc[train_label['file'].isin(train_test['test']), 'age'].value_counts(normalize=True).to_string())\n",
    "print('Test Age Class Distribution')\n",
    "print(val_label.loc[val_label['file'].isin(train_test['val']), 'age'].value_counts(normalize=True).to_string())\n"
   ]
  },
  {
   "cell_type": "code",
   "execution_count": 28,
   "metadata": {},
   "outputs": [
    {
     "name": "stderr",
     "output_type": "stream",
     "text": [
      "Clipping input data to the valid range for imshow with RGB data ([0..1] for floats or [0..255] for integers).\n"
     ]
    },
    {
     "data": {
      "image/png": "[encoded data removed]",
      "text/plain": [
       "<Figure size 640x480 with 1 Axes>"
      ]
     },
     "metadata": {},
     "output_type": "display_data"
    }
   ],
   "source": [
    "def display_torch_img(dataset, index):\n",
    "    \"\"\"Displays a single image from the given dataset at the given index.\n",
    "\n",
    "    Args:\n",
    "        dataset: A PyTorch dataset object or the array of tensors.\n",
    "        index: The index of the image to display.\n",
    "\n",
    "    Returns:\n",
    "        None.\n",
    "    \"\"\"\n",
    "\n",
    "    # Check if the dataset is a FairFaceDataset object.\n",
    "    if type(dataset) == data.FairFaceDataset:\n",
    "\n",
    "        # Get the image from the dataset.\n",
    "        img = dataset[index]['image']\n",
    "\n",
    "        # If the image is a 4D tensor, squeeze it to a 3D tensor.\n",
    "        if len(dataset[index]['image'].shape) == 4:\n",
    "            img = torch.squeeze(img)\n",
    "\n",
    "    # Otherwise, the dataset is assumed to be an array of tensors.\n",
    "    else:\n",
    "\n",
    "        # Get the image from the dataset.\n",
    "        img = dataset[index]\n",
    "\n",
    "    # Permute the image axes so that the channel axis is the last axis.\n",
    "    img = img.permute(1, 2, 0)\n",
    "\n",
    "    # Display the image using Matplotlib.\n",
    "    plt.imshow(img)\n",
    "    plt.show()\n",
    "\n",
    "display_torch_img(fairface_train, 35)"
   ]
  },
  {
   "cell_type": "markdown",
   "metadata": {},
   "source": [
    "### Sample data"
   ]
  },
  {
   "cell_type": "code",
   "execution_count": 29,
   "metadata": {},
   "outputs": [],
   "source": [
    "img_grid = torchvision.utils.make_grid(fairface_train[13]['image'])\n",
    "writer.add_image('fairface_image1', img_grid)\n",
    "\n",
    "img_grid = torchvision.utils.make_grid(fairface_train[26]['image'])\n",
    "writer.add_image('fairface_image2', img_grid)\n",
    "\n",
    "for i in range(5):\n",
    "    img_grid = torchvision.utils.make_grid(fairface_train[43 + i]['image'])\n",
    "    writer.add_image(f'fairface_image{i + 3}', img_grid)"
   ]
  },
  {
   "cell_type": "markdown",
   "metadata": {},
   "source": [
    "### First try of training a neural network"
   ]
  },
  {
   "cell_type": "code",
   "execution_count": 30,
   "metadata": {},
   "outputs": [
    {
     "name": "stdout",
     "output_type": "stream",
     "text": [
      "Adjusting learning rate of group 0 to 1.0000e-04.\n"
     ]
    }
   ],
   "source": [
    "device = torch.device(\"cuda:0\" if torch.cuda.is_available() else \"cpu\")\n",
    "mobilenet = mobilenet.to(device)\n",
    "model = mobilenetv3.FairFaceMobileNet(mobilenet).to(device)\n",
    "\n",
    "# For race and age classes\n",
    "bce = nn.BCELoss().to(device)\n",
    "criterion = nn.CrossEntropyLoss().to(device)\n",
    "optimizer = optim.Adam(model.parameters(), lr=1e-4)\n",
    "scheduler = lr_scheduler.MultiStepLR(optimizer, milestones=[5, 10, 15, 20, 25], gamma=0.5, verbose=True)"
   ]
  },
  {
   "cell_type": "markdown",
   "metadata": {},
   "source": [
    "### Train model"
   ]
  },
  {
   "cell_type": "code",
   "execution_count": 31,
   "metadata": {},
   "outputs": [
    {
     "name": "stderr",
     "output_type": "stream",
     "text": [
      "100%|██████████| 145/145 [00:59<00:00,  2.43it/s]\n"
     ]
    },
    {
     "name": "stdout",
     "output_type": "stream",
     "text": [
      "Training step:\n",
      "Epoch = 1, Loss = 5.716862201690674\n",
      "Age accuracy = 0.13146480293969307\tRace accuracy = 0.14194106203616974\tGender accuracy = 0.5421283954175373\n",
      "Age loss = 2.1342828273773193\tRace loss = 1.9559903144836426\tGender Loss = 0.6876608729362488\n"
     ]
    },
    {
     "name": "stderr",
     "output_type": "stream",
     "text": [
      "100%|██████████| 37/37 [00:09<00:00,  4.10it/s]\n"
     ]
    },
    {
     "name": "stdout",
     "output_type": "stream",
     "text": [
      "Validation step:\n",
      "Epoch = 1, Loss = 5.799333533725223\n",
      "Age accuracy = 0.10525102311372414\tRace accuracy = 0.1431206409591331\tGender accuracy = 0.6556573865928872\n",
      "Age loss = 2.197373151779175\tRace loss = 1.9559009075164795\tGender Loss = 0.6511191725730896\n",
      "End of Epoch: 1 \tTraining Loss: 5.716862201690674 \tValidation Loss: 5.799333533725223\n",
      "Validation loss decreased (inf --> 5.799333533725223).  Saving model ...\n"
     ]
    },
    {
     "name": "stderr",
     "output_type": "stream",
     "text": [
      "100%|██████████| 145/145 [00:59<00:00,  2.43it/s]\n"
     ]
    },
    {
     "name": "stdout",
     "output_type": "stream",
     "text": [
      "Training step:\n",
      "Epoch = 2, Loss = 5.44156551361084\n",
      "Age accuracy = 0.18322645723755313\tRace accuracy = 0.18978312558541682\tGender accuracy = 0.7115210029541034\n",
      "Age loss = 2.0078694820404053\tRace loss = 1.9160236120224\tGender Loss = 0.5697406530380249\n"
     ]
    },
    {
     "name": "stderr",
     "output_type": "stream",
     "text": [
      "100%|██████████| 37/37 [00:09<00:00,  3.82it/s]\n"
     ]
    },
    {
     "name": "stdout",
     "output_type": "stream",
     "text": [
      "Validation step:\n",
      "Epoch = 2, Loss = 5.3037898347184464\n",
      "Age accuracy = 0.22076200357369302\tRace accuracy = 0.2613983514899994\tGender accuracy = 0.7878840278978615\n",
      "Age loss = 2.0162100791931152\tRace loss = 1.8227142095565796\tGender Loss = 0.44514936208724976\n",
      "End of Epoch: 2 \tTraining Loss: 5.44156551361084 \tValidation Loss: 5.3037898347184464\n",
      "Validation loss decreased (5.799333533725223 --> 5.3037898347184464).  Saving model ...\n"
     ]
    },
    {
     "name": "stderr",
     "output_type": "stream",
     "text": [
      "100%|██████████| 145/145 [01:00<00:00,  2.41it/s]\n"
     ]
    },
    {
     "name": "stdout",
     "output_type": "stream",
     "text": [
      "Training step:\n",
      "Epoch = 3, Loss = 5.055213451385498\n",
      "Age accuracy = 0.26542258087758486\tRace accuracy = 0.24761149938756394\tGender accuracy = 0.8058217450824987\n",
      "Age loss = 1.8656665086746216\tRace loss = 1.8051671981811523\tGender Loss = 0.43839016556739807\n"
     ]
    },
    {
     "name": "stderr",
     "output_type": "stream",
     "text": [
      "100%|██████████| 37/37 [00:10<00:00,  3.62it/s]\n"
     ]
    },
    {
     "name": "stdout",
     "output_type": "stream",
     "text": [
      "Validation step:\n",
      "Epoch = 3, Loss = 4.670209833093591\n",
      "Age accuracy = 0.3405383595596288\tRace accuracy = 0.3316041270390224\tGender accuracy = 0.8587238457547985\n",
      "Age loss = 1.742598533630371\tRace loss = 1.6695071458816528\tGender Loss = 0.31208664178848267\n",
      "End of Epoch: 3 \tTraining Loss: 5.055213451385498 \tValidation Loss: 4.670209833093591\n",
      "Validation loss decreased (5.3037898347184464 --> 4.670209833093591).  Saving model ...\n"
     ]
    },
    {
     "name": "stderr",
     "output_type": "stream",
     "text": [
      "100%|██████████| 145/145 [01:01<00:00,  2.35it/s]\n"
     ]
    },
    {
     "name": "stdout",
     "output_type": "stream",
     "text": [
      "Training step:\n",
      "Epoch = 4, Loss = 4.693451881408691\n",
      "Age accuracy = 0.3288277253404424\tRace accuracy = 0.29445925498955255\tGender accuracy = 0.8397723178903379\n",
      "Age loss = 1.724643588066101\tRace loss = 1.6962249279022217\tGender Loss = 0.3694043457508087\n"
     ]
    },
    {
     "name": "stderr",
     "output_type": "stream",
     "text": [
      "100%|██████████| 37/37 [00:09<00:00,  4.10it/s]\n"
     ]
    },
    {
     "name": "stdout",
     "output_type": "stream",
     "text": [
      "Validation step:\n",
      "Epoch = 4, Loss = 4.419107759321058\n",
      "Age accuracy = 0.33535074067669607\tRace accuracy = 0.36826330047841377\tGender accuracy = 0.8727880569485273\n",
      "Age loss = 1.645341396331787\tRace loss = 1.5851584672927856\tGender Loss = 0.2923056483268738\n",
      "End of Epoch: 4 \tTraining Loss: 4.693451881408691 \tValidation Loss: 4.419107759321058\n",
      "Validation loss decreased (4.670209833093591 --> 4.419107759321058).  Saving model ...\n"
     ]
    },
    {
     "name": "stderr",
     "output_type": "stream",
     "text": [
      "100%|██████████| 145/145 [01:01<00:00,  2.36it/s]\n"
     ]
    },
    {
     "name": "stdout",
     "output_type": "stream",
     "text": [
      "Training step:\n",
      "Epoch = 5, Loss = 4.421350479125977\n",
      "Age accuracy = 0.36813891490741407\tRace accuracy = 0.32415880106635925\tGender accuracy = 0.8541105266950069\n",
      "Age loss = 1.6067842245101929\tRace loss = 1.62187659740448\tGender Loss = 0.3441753685474396\n"
     ]
    },
    {
     "name": "stderr",
     "output_type": "stream",
     "text": [
      "100%|██████████| 37/37 [00:09<00:00,  3.99it/s]\n"
     ]
    },
    {
     "name": "stdout",
     "output_type": "stream",
     "text": [
      "Validation step:\n",
      "Epoch = 5, Loss = 4.0812687100590885\n",
      "Age accuracy = 0.40227102426652833\tRace accuracy = 0.39529655887947435\tGender accuracy = 0.8790708398178569\n",
      "Age loss = 1.4978299140930176\tRace loss = 1.4902032613754272\tGender Loss = 0.27571502327919006\n",
      "End of Epoch: 5 \tTraining Loss: 4.421350479125977 \tValidation Loss: 4.0812687100590885\n",
      "Validation loss decreased (4.419107759321058 --> 4.0812687100590885).  Saving model ...\n"
     ]
    },
    {
     "name": "stderr",
     "output_type": "stream",
     "text": [
      "100%|██████████| 145/145 [01:02<00:00,  2.33it/s]\n"
     ]
    },
    {
     "name": "stdout",
     "output_type": "stream",
     "text": [
      "Training step:\n",
      "Epoch = 6, Loss = 4.204681396484375\n",
      "Age accuracy = 0.40093666690683766\tRace accuracy = 0.35215793645075294\tGender accuracy = 0.8638950933064342\n",
      "Age loss = 1.5204826593399048\tRace loss = 1.5537570714950562\tGender Loss = 0.32139649987220764\n"
     ]
    },
    {
     "name": "stderr",
     "output_type": "stream",
     "text": [
      "100%|██████████| 37/37 [00:09<00:00,  4.00it/s]\n"
     ]
    },
    {
     "name": "stdout",
     "output_type": "stream",
     "text": [
      "Validation step:\n",
      "Epoch = 6, Loss = 3.8041448657577104\n",
      "Age accuracy = 0.46613637673641134\tRace accuracy = 0.43051472707360655\tGender accuracy = 0.8831632947143928\n",
      "Age loss = 1.3837138414382935\tRace loss = 1.4024921655654907\tGender Loss = 0.2656327188014984\n",
      "End of Epoch: 6 \tTraining Loss: 4.204681396484375 \tValidation Loss: 3.8041448657577104\n",
      "Validation loss decreased (4.0812687100590885 --> 3.8041448657577104).  Saving model ...\n"
     ]
    },
    {
     "name": "stderr",
     "output_type": "stream",
     "text": [
      "100%|██████████| 145/145 [01:01<00:00,  2.34it/s]\n"
     ]
    },
    {
     "name": "stdout",
     "output_type": "stream",
     "text": [
      "Training step:\n",
      "Epoch = 7, Loss = 4.006638526916504\n",
      "Age accuracy = 0.4233590316305209\tRace accuracy = 0.3890337920599467\tGender accuracy = 0.87098494127819\n",
      "Age loss = 1.4523857831954956\tRace loss = 1.4757790565490723\tGender Loss = 0.30726706981658936\n"
     ]
    },
    {
     "name": "stderr",
     "output_type": "stream",
     "text": [
      "100%|██████████| 37/37 [00:08<00:00,  4.20it/s]\n"
     ]
    },
    {
     "name": "stdout",
     "output_type": "stream",
     "text": [
      "Validation step:\n",
      "Epoch = 7, Loss = 3.706540874532751\n",
      "Age accuracy = 0.4525332872211655\tRace accuracy = 0.48579168828174535\tGender accuracy = 0.8877745114992218\n",
      "Age loss = 1.3652981519699097\tRace loss = 1.344381332397461\tGender Loss = 0.2595997750759125\n",
      "End of Epoch: 7 \tTraining Loss: 4.006638526916504 \tValidation Loss: 3.706540874532751\n",
      "Validation loss decreased (3.8041448657577104 --> 3.706540874532751).  Saving model ...\n"
     ]
    },
    {
     "name": "stderr",
     "output_type": "stream",
     "text": [
      "100%|██████████| 145/145 [00:59<00:00,  2.44it/s]\n"
     ]
    },
    {
     "name": "stdout",
     "output_type": "stream",
     "text": [
      "Training step:\n",
      "Epoch = 8, Loss = 3.848745584487915\n",
      "Age accuracy = 0.4404207795950717\tRace accuracy = 0.4203472872685352\tGender accuracy = 0.8795158152604654\n",
      "Age loss = 1.3990918397903442\tRace loss = 1.4138784408569336\tGender Loss = 0.2905152142047882\n"
     ]
    },
    {
     "name": "stderr",
     "output_type": "stream",
     "text": [
      "100%|██████████| 37/37 [00:08<00:00,  4.25it/s]\n"
     ]
    },
    {
     "name": "stdout",
     "output_type": "stream",
     "text": [
      "Validation step:\n",
      "Epoch = 8, Loss = 3.5843412747254244\n",
      "Age accuracy = 0.4628508847772206\tRace accuracy = 0.5087901319960805\tGender accuracy = 0.8912329240878437\n",
      "Age loss = 1.318423867225647\tRace loss = 1.3011609315872192\tGender Loss = 0.25559812784194946\n",
      "End of Epoch: 8 \tTraining Loss: 3.848745584487915 \tValidation Loss: 3.5843412747254244\n",
      "Validation loss decreased (3.706540874532751 --> 3.5843412747254244).  Saving model ...\n"
     ]
    },
    {
     "name": "stderr",
     "output_type": "stream",
     "text": [
      "100%|██████████| 145/145 [00:59<00:00,  2.43it/s]\n"
     ]
    },
    {
     "name": "stdout",
     "output_type": "stream",
     "text": [
      "Training step:\n",
      "Epoch = 9, Loss = 3.7069015502929688\n",
      "Age accuracy = 0.45519129620289644\tRace accuracy = 0.4421067800273795\tGender accuracy = 0.8854096116434902\n",
      "Age loss = 1.3469902276992798\tRace loss = 1.3628143072128296\tGender Loss = 0.2785548269748688\n"
     ]
    },
    {
     "name": "stderr",
     "output_type": "stream",
     "text": [
      "100%|██████████| 37/37 [00:08<00:00,  4.16it/s]\n"
     ]
    },
    {
     "name": "stdout",
     "output_type": "stream",
     "text": [
      "Validation step:\n",
      "Epoch = 9, Loss = 3.457943871214583\n",
      "Age accuracy = 0.47334140296270677\tRace accuracy = 0.5106346187100121\tGender accuracy = 0.886852268142256\n",
      "Age loss = 1.2619233131408691\tRace loss = 1.265306830406189\tGender Loss = 0.2565164268016815\n",
      "End of Epoch: 9 \tTraining Loss: 3.7069015502929688 \tValidation Loss: 3.457943871214583\n",
      "Validation loss decreased (3.5843412747254244 --> 3.457943871214583).  Saving model ...\n"
     ]
    },
    {
     "name": "stderr",
     "output_type": "stream",
     "text": [
      "100%|██████████| 145/145 [01:00<00:00,  2.40it/s]\n"
     ]
    },
    {
     "name": "stdout",
     "output_type": "stream",
     "text": [
      "Training step:\n",
      "Epoch = 10, Loss = 3.5914323329925537\n",
      "Age accuracy = 0.46660422220621084\tRace accuracy = 0.4606239642625549\tGender accuracy = 0.8876720224800058\n",
      "Age loss = 1.306448221206665\tRace loss = 1.318414568901062\tGender Loss = 0.27034619450569153\n"
     ]
    },
    {
     "name": "stderr",
     "output_type": "stream",
     "text": [
      "100%|██████████| 37/37 [00:08<00:00,  4.15it/s]\n"
     ]
    },
    {
     "name": "stdout",
     "output_type": "stream",
     "text": [
      "Validation step:\n",
      "Epoch = 10, Loss = 3.346660246720185\n",
      "Age accuracy = 0.494610640382731\tRace accuracy = 0.526946798086345\tGender accuracy = 0.8941149345783619\n",
      "Age loss = 1.2235928773880005\tRace loss = 1.2223844528198242\tGender Loss = 0.24570205807685852\n",
      "End of Epoch: 10 \tTraining Loss: 3.5914323329925537 \tValidation Loss: 3.346660246720185\n",
      "Validation loss decreased (3.457943871214583 --> 3.346660246720185).  Saving model ...\n"
     ]
    },
    {
     "name": "stderr",
     "output_type": "stream",
     "text": [
      "100%|██████████| 145/145 [01:00<00:00,  2.41it/s]\n"
     ]
    },
    {
     "name": "stdout",
     "output_type": "stream",
     "text": [
      "Training step:\n",
      "Epoch = 11, Loss = 3.477489948272705\n",
      "Age accuracy = 0.4778298148281577\tRace accuracy = 0.4755818142517472\tGender accuracy = 0.8923265364939837\n",
      "Age loss = 1.2618762254714966\tRace loss = 1.2802116870880127\tGender Loss = 0.26311251521110535\n"
     ]
    },
    {
     "name": "stderr",
     "output_type": "stream",
     "text": [
      "100%|██████████| 37/37 [00:09<00:00,  4.07it/s]\n"
     ]
    },
    {
     "name": "stdout",
     "output_type": "stream",
     "text": [
      "Validation step:\n",
      "Epoch = 11, Loss = 3.322622975787601\n",
      "Age accuracy = 0.4877514554152977\tRace accuracy = 0.5282725229119833\tGender accuracy = 0.8942302149979826\n",
      "Age loss = 1.2265766859054565\tRace loss = 1.1980688571929932\tGender Loss = 0.24550804495811462\n",
      "End of Epoch: 11 \tTraining Loss: 3.477489948272705 \tValidation Loss: 3.322622975787601\n",
      "Validation loss decreased (3.346660246720185 --> 3.322622975787601).  Saving model ...\n"
     ]
    },
    {
     "name": "stderr",
     "output_type": "stream",
     "text": [
      "100%|██████████| 145/145 [00:59<00:00,  2.42it/s]\n"
     ]
    },
    {
     "name": "stdout",
     "output_type": "stream",
     "text": [
      "Training step:\n",
      "Epoch = 12, Loss = 3.378142833709717\n",
      "Age accuracy = 0.4951653577347071\tRace accuracy = 0.4954247424166006\tGender accuracy = 0.8945313062900785\n",
      "Age loss = 1.228326678276062\tRace loss = 1.2410272359848022\tGender Loss = 0.2534901201725006\n"
     ]
    },
    {
     "name": "stderr",
     "output_type": "stream",
     "text": [
      "100%|██████████| 37/37 [00:08<00:00,  4.25it/s]\n"
     ]
    },
    {
     "name": "stdout",
     "output_type": "stream",
     "text": [
      "Validation step:\n",
      "Epoch = 12, Loss = 3.333668863451159\n",
      "Age accuracy = 0.4679232232405326\tRace accuracy = 0.5377831575306934\tGender accuracy = 0.897630987376794\n",
      "Age loss = 1.2383629083633423\tRace loss = 1.193532109260559\tGender Loss = 0.2414909154176712\n",
      "End of Epoch: 12 \tTraining Loss: 3.378142833709717 \tValidation Loss: 3.333668863451159\n"
     ]
    },
    {
     "name": "stderr",
     "output_type": "stream",
     "text": [
      "100%|██████████| 145/145 [00:59<00:00,  2.45it/s]\n"
     ]
    },
    {
     "name": "stdout",
     "output_type": "stream",
     "text": [
      "Training step:\n",
      "Epoch = 13, Loss = 3.2865161895751953\n",
      "Age accuracy = 0.507428489084228\tRace accuracy = 0.5137834137906189\tGender accuracy = 0.8968657684271201\n",
      "Age loss = 1.1999247074127197\tRace loss = 1.2012959718704224\tGender Loss = 0.24580232799053192\n"
     ]
    },
    {
     "name": "stderr",
     "output_type": "stream",
     "text": [
      "100%|██████████| 37/37 [00:08<00:00,  4.34it/s]\n"
     ]
    },
    {
     "name": "stdout",
     "output_type": "stream",
     "text": [
      "Validation step:\n",
      "Epoch = 13, Loss = 3.2591760416288635\n",
      "Age accuracy = 0.490806386535247\tRace accuracy = 0.5460257075335754\tGender accuracy = 0.8995331143005361\n",
      "Age loss = 1.202711582183838\tRace loss = 1.1761677265167236\tGender Loss = 0.23937055468559265\n",
      "End of Epoch: 13 \tTraining Loss: 3.2865161895751953 \tValidation Loss: 3.2591760416288635\n",
      "Validation loss decreased (3.322622975787601 --> 3.2591760416288635).  Saving model ...\n"
     ]
    },
    {
     "name": "stderr",
     "output_type": "stream",
     "text": [
      "100%|██████████| 145/145 [00:58<00:00,  2.49it/s]\n"
     ]
    },
    {
     "name": "stdout",
     "output_type": "stream",
     "text": [
      "Training step:\n",
      "Epoch = 14, Loss = 3.2122459411621094\n",
      "Age accuracy = 0.5163916708696592\tRace accuracy = 0.5256862886375099\tGender accuracy = 0.9017940773830968\n",
      "Age loss = 1.1724507808685303\tRace loss = 1.1744877099990845\tGender Loss = 0.2406642735004425\n"
     ]
    },
    {
     "name": "stderr",
     "output_type": "stream",
     "text": [
      "100%|██████████| 37/37 [00:08<00:00,  4.18it/s]\n"
     ]
    },
    {
     "name": "stdout",
     "output_type": "stream",
     "text": [
      "Validation step:\n",
      "Epoch = 14, Loss = 3.199569083548881\n",
      "Age accuracy = 0.5116145022767883\tRace accuracy = 0.5448729033373682\tGender accuracy = 0.9010893999654159\n",
      "Age loss = 1.169871211051941\tRace loss = 1.1665488481521606\tGender Loss = 0.242121160030365\n",
      "End of Epoch: 14 \tTraining Loss: 3.2122459411621094 \tValidation Loss: 3.199569083548881\n",
      "Validation loss decreased (3.2591760416288635 --> 3.199569083548881).  Saving model ...\n"
     ]
    },
    {
     "name": "stderr",
     "output_type": "stream",
     "text": [
      "100%|██████████| 145/145 [00:57<00:00,  2.53it/s]\n"
     ]
    },
    {
     "name": "stdout",
     "output_type": "stream",
     "text": [
      "Training step:\n",
      "Epoch = 15, Loss = 3.1567556858062744\n",
      "Age accuracy = 0.5213199798256358\tRace accuracy = 0.540327112904388\tGender accuracy = 0.9025578211686721\n",
      "Age loss = 1.1565624475479126\tRace loss = 1.1482691764831543\tGender Loss = 0.23769055306911469\n"
     ]
    },
    {
     "name": "stderr",
     "output_type": "stream",
     "text": [
      "100%|██████████| 37/37 [00:09<00:00,  3.75it/s]\n"
     ]
    },
    {
     "name": "stdout",
     "output_type": "stream",
     "text": [
      "Validation step:\n",
      "Epoch = 15, Loss = 3.286156564145475\n",
      "Age accuracy = 0.5019885872384575\tRace accuracy = 0.5450458239667992\tGender accuracy = 0.8978615482160355\n",
      "Age loss = 1.2021894454956055\tRace loss = 1.19598388671875\tGender Loss = 0.25324735045433044\n",
      "End of Epoch: 15 \tTraining Loss: 3.1567556858062744 \tValidation Loss: 3.286156564145475\n"
     ]
    },
    {
     "name": "stderr",
     "output_type": "stream",
     "text": [
      "100%|██████████| 145/145 [00:57<00:00,  2.54it/s]\n"
     ]
    },
    {
     "name": "stdout",
     "output_type": "stream",
     "text": [
      "Training step:\n",
      "Epoch = 16, Loss = 3.078031539916992\n",
      "Age accuracy = 0.5332084444124217\tRace accuracy = 0.5482383457021399\tGender accuracy = 0.9089703869154838\n",
      "Age loss = 1.1253384351730347\tRace loss = 1.1249396800994873\tGender Loss = 0.2237720936536789\n"
     ]
    },
    {
     "name": "stderr",
     "output_type": "stream",
     "text": [
      "100%|██████████| 37/37 [00:08<00:00,  4.31it/s]\n"
     ]
    },
    {
     "name": "stdout",
     "output_type": "stream",
     "text": [
      "Validation step:\n",
      "Epoch = 16, Loss = 3.1851673641720333\n",
      "Age accuracy = 0.5127673064729955\tRace accuracy = 0.5544988183756989\tGender accuracy = 0.90016715660845\n",
      "Age loss = 1.1688132286071777\tRace loss = 1.1537829637527466\tGender Loss = 0.24854984879493713\n",
      "End of Epoch: 16 \tTraining Loss: 3.078031539916992 \tValidation Loss: 3.1851673641720333\n",
      "Validation loss decreased (3.199569083548881 --> 3.1851673641720333).  Saving model ...\n"
     ]
    },
    {
     "name": "stderr",
     "output_type": "stream",
     "text": [
      "100%|██████████| 145/145 [00:58<00:00,  2.48it/s]\n"
     ]
    },
    {
     "name": "stdout",
     "output_type": "stream",
     "text": [
      "Training step:\n",
      "Epoch = 17, Loss = 3.027431011199951\n",
      "Age accuracy = 0.5440305497514231\tRace accuracy = 0.556596296563153\tGender accuracy = 0.9090424382160098\n",
      "Age loss = 1.106011152267456\tRace loss = 1.1067622900009155\tGender Loss = 0.2227378636598587\n"
     ]
    },
    {
     "name": "stderr",
     "output_type": "stream",
     "text": [
      "100%|██████████| 37/37 [00:08<00:00,  4.20it/s]\n"
     ]
    },
    {
     "name": "stdout",
     "output_type": "stream",
     "text": [
      "Validation step:\n",
      "Epoch = 17, Loss = 3.2234760232873865\n",
      "Age accuracy = 0.48988414317828116\tRace accuracy = 0.5564009452994408\tGender accuracy = 0.8994754740907257\n",
      "Age loss = 1.1893471479415894\tRace loss = 1.1605383157730103\tGender Loss = 0.24735096096992493\n",
      "End of Epoch: 17 \tTraining Loss: 3.027431011199951 \tValidation Loss: 3.2234760232873865\n"
     ]
    },
    {
     "name": "stderr",
     "output_type": "stream",
     "text": [
      "100%|██████████| 145/145 [00:59<00:00,  2.43it/s]\n"
     ]
    },
    {
     "name": "stdout",
     "output_type": "stream",
     "text": [
      "Training step:\n",
      "Epoch = 18, Loss = 2.970425605773926\n",
      "Age accuracy = 0.550169320556236\tRace accuracy = 0.5643346062396426\tGender accuracy = 0.9121550543987319\n",
      "Age loss = 1.0884214639663696\tRace loss = 1.0822466611862183\tGender Loss = 0.21686507761478424\n"
     ]
    },
    {
     "name": "stderr",
     "output_type": "stream",
     "text": [
      "100%|██████████| 37/37 [00:08<00:00,  4.22it/s]\n"
     ]
    },
    {
     "name": "stdout",
     "output_type": "stream",
     "text": [
      "Validation step:\n",
      "Epoch = 18, Loss = 3.220411339321652\n",
      "Age accuracy = 0.5036601533229581\tRace accuracy = 0.5517897285146118\tGender accuracy = 0.9004553576575018\n",
      "Age loss = 1.1767131090164185\tRace loss = 1.176439881324768\tGender Loss = 0.23911185562610626\n",
      "End of Epoch: 18 \tTraining Loss: 2.970425605773926 \tValidation Loss: 3.220411339321652\n"
     ]
    },
    {
     "name": "stderr",
     "output_type": "stream",
     "text": [
      "100%|██████████| 145/145 [00:59<00:00,  2.43it/s]\n"
     ]
    },
    {
     "name": "stdout",
     "output_type": "stream",
     "text": [
      "Training step:\n",
      "Epoch = 19, Loss = 2.921001434326172\n",
      "Age accuracy = 0.5561207579796815\tRace accuracy = 0.5727213776208661\tGender accuracy = 0.9121838749189423\n",
      "Age loss = 1.0702571868896484\tRace loss = 1.0642179250717163\tGender Loss = 0.21357734501361847\n"
     ]
    },
    {
     "name": "stderr",
     "output_type": "stream",
     "text": [
      "100%|██████████| 37/37 [00:08<00:00,  4.14it/s]\n"
     ]
    },
    {
     "name": "stdout",
     "output_type": "stream",
     "text": [
      "Validation step:\n",
      "Epoch = 19, Loss = 3.2626475772342167\n",
      "Age accuracy = 0.504928237938786\tRace accuracy = 0.5655080984494784\tGender accuracy = 0.8978039080062251\n",
      "Age loss = 1.2095693349838257\tRace loss = 1.1629705429077148\tGender Loss = 0.2655102014541626\n",
      "End of Epoch: 19 \tTraining Loss: 2.921001434326172 \tValidation Loss: 3.2626475772342167\n"
     ]
    },
    {
     "name": "stderr",
     "output_type": "stream",
     "text": [
      "100%|██████████| 145/145 [01:01<00:00,  2.37it/s]\n"
     ]
    },
    {
     "name": "stdout",
     "output_type": "stream",
     "text": [
      "Training step:\n",
      "Epoch = 20, Loss = 2.8794949054718018\n",
      "Age accuracy = 0.5632970675120685\tRace accuracy = 0.5821600979897688\tGender accuracy = 0.917414799337128\n",
      "Age loss = 1.0591167211532593\tRace loss = 1.0449340343475342\tGender Loss = 0.2068091779947281\n"
     ]
    },
    {
     "name": "stderr",
     "output_type": "stream",
     "text": [
      "100%|██████████| 37/37 [00:08<00:00,  4.24it/s]\n"
     ]
    },
    {
     "name": "stdout",
     "output_type": "stream",
     "text": [
      "Validation step:\n",
      "Epoch = 20, Loss = 3.251083651104489\n",
      "Age accuracy = 0.4999711798950948\tRace accuracy = 0.5693123522969623\tGender accuracy = 0.902530405210675\n",
      "Age loss = 1.1865835189819336\tRace loss = 1.189133644104004\tGender Loss = 0.2421875\n",
      "End of Epoch: 20 \tTraining Loss: 2.8794949054718018 \tValidation Loss: 3.251083651104489\n"
     ]
    },
    {
     "name": "stderr",
     "output_type": "stream",
     "text": [
      "100%|██████████| 145/145 [00:59<00:00,  2.43it/s]\n"
     ]
    },
    {
     "name": "stdout",
     "output_type": "stream",
     "text": [
      "Training step:\n",
      "Epoch = 21, Loss = 2.8284506797790527\n",
      "Age accuracy = 0.5687729663520427\tRace accuracy = 0.5932992290510843\tGender accuracy = 0.9185820304056488\n",
      "Age loss = 1.0423080921173096\tRace loss = 1.0240660905838013\tGender Loss = 0.20252010226249695\n"
     ]
    },
    {
     "name": "stderr",
     "output_type": "stream",
     "text": [
      "100%|██████████| 37/37 [00:09<00:00,  4.04it/s]\n"
     ]
    },
    {
     "name": "stdout",
     "output_type": "stream",
     "text": [
      "Validation step:\n",
      "Epoch = 21, Loss = 3.1899417091060327\n",
      "Age accuracy = 0.5165139201106692\tRace accuracy = 0.5696581935558246\tGender accuracy = 0.9009741195457951\n",
      "Age loss = 1.1785311698913574\tRace loss = 1.1475616693496704\tGender Loss = 0.24090395867824554\n",
      "End of Epoch: 21 \tTraining Loss: 2.8284506797790527 \tValidation Loss: 3.1899417091060327\n"
     ]
    },
    {
     "name": "stderr",
     "output_type": "stream",
     "text": [
      "100%|██████████| 145/145 [00:59<00:00,  2.42it/s]\n"
     ]
    },
    {
     "name": "stdout",
     "output_type": "stream",
     "text": [
      "Training step:\n",
      "Epoch = 22, Loss = 2.790971040725708\n",
      "Age accuracy = 0.5713524029108725\tRace accuracy = 0.6018012825131493\tGender accuracy = 0.9193313639311189\n",
      "Age loss = 1.0301061868667603\tRace loss = 1.0087326765060425\tGender Loss = 0.19877082109451294\n"
     ]
    },
    {
     "name": "stderr",
     "output_type": "stream",
     "text": [
      "100%|██████████| 37/37 [00:08<00:00,  4.13it/s]\n"
     ]
    },
    {
     "name": "stdout",
     "output_type": "stream",
     "text": [
      "Validation step:\n",
      "Epoch = 22, Loss = 3.2574409536413245\n",
      "Age accuracy = 0.4954752435298864\tRace accuracy = 0.5665456222260649\tGender accuracy = 0.9028186062597268\n",
      "Age loss = 1.2078967094421387\tRace loss = 1.1626172065734863\tGender Loss = 0.25858771800994873\n",
      "End of Epoch: 22 \tTraining Loss: 2.790971040725708 \tValidation Loss: 3.2574409536413245\n"
     ]
    },
    {
     "name": "stderr",
     "output_type": "stream",
     "text": [
      "100%|██████████| 145/145 [01:01<00:00,  2.36it/s]\n"
     ]
    },
    {
     "name": "stdout",
     "output_type": "stream",
     "text": [
      "Training step:\n",
      "Epoch = 23, Loss = 2.7679860591888428\n",
      "Age accuracy = 0.5805317385978817\tRace accuracy = 0.6061820015851286\tGender accuracy = 0.9198069025145904\n",
      "Age loss = 1.0207756757736206\tRace loss = 1.0010477304458618\tGender Loss = 0.19878044724464417\n"
     ]
    },
    {
     "name": "stderr",
     "output_type": "stream",
     "text": [
      "100%|██████████| 37/37 [00:08<00:00,  4.14it/s]\n"
     ]
    },
    {
     "name": "stdout",
     "output_type": "stream",
     "text": [
      "Validation step:\n",
      "Epoch = 23, Loss = 3.264791946153383\n",
      "Age accuracy = 0.5101158568217188\tRace accuracy = 0.5672373047437893\tGender accuracy = 0.9032220877283993\n",
      "Age loss = 1.1953964233398438\tRace loss = 1.1850017309188843\tGender Loss = 0.2583194375038147\n",
      "End of Epoch: 23 \tTraining Loss: 2.7679860591888428 \tValidation Loss: 3.264791946153383\n"
     ]
    },
    {
     "name": "stderr",
     "output_type": "stream",
     "text": [
      "100%|██████████| 145/145 [01:00<00:00,  2.38it/s]\n"
     ]
    },
    {
     "name": "stdout",
     "output_type": "stream",
     "text": [
      "Training step:\n",
      "Epoch = 24, Loss = 2.7188215255737305\n",
      "Age accuracy = 0.5862093810793285\tRace accuracy = 0.6131997982563585\tGender accuracy = 0.9231212623387852\n",
      "Age loss = 1.003590703010559\tRace loss = 0.9821286797523499\tGender Loss = 0.19498461484909058\n"
     ]
    },
    {
     "name": "stderr",
     "output_type": "stream",
     "text": [
      "100%|██████████| 37/37 [00:09<00:00,  4.00it/s]\n"
     ]
    },
    {
     "name": "stdout",
     "output_type": "stream",
     "text": [
      "Validation step:\n",
      "Epoch = 24, Loss = 3.282087970424343\n",
      "Age accuracy = 0.5142083117182547\tRace accuracy = 0.5804369127903626\tGender accuracy = 0.9044901723442274\n",
      "Age loss = 1.2073729038238525\tRace loss = 1.1880106925964355\tGender Loss = 0.24562552571296692\n",
      "End of Epoch: 24 \tTraining Loss: 2.7188215255737305 \tValidation Loss: 3.282087970424343\n"
     ]
    },
    {
     "name": "stderr",
     "output_type": "stream",
     "text": [
      "100%|██████████| 145/145 [01:01<00:00,  2.36it/s]\n"
     ]
    },
    {
     "name": "stdout",
     "output_type": "stream",
     "text": [
      "Training step:\n",
      "Epoch = 25, Loss = 2.6926493644714355\n",
      "Age accuracy = 0.588759997117948\tRace accuracy = 0.6215721593774768\tGender accuracy = 0.923697672742993\n",
      "Age loss = 0.9966522455215454\tRace loss = 0.9690701365470886\tGender Loss = 0.19350841641426086\n"
     ]
    },
    {
     "name": "stderr",
     "output_type": "stream",
     "text": [
      "100%|██████████| 37/37 [00:09<00:00,  4.06it/s]\n"
     ]
    },
    {
     "name": "stdout",
     "output_type": "stream",
     "text": [
      "Validation step:\n",
      "Epoch = 25, Loss = 3.2657196264009216\n",
      "Age accuracy = 0.5094241743039944\tRace accuracy = 0.5765750187330682\tGender accuracy = 0.9063922992679694\n",
      "Age loss = 1.2053111791610718\tRace loss = 1.17690908908844\tGender Loss = 0.24475601315498352\n",
      "End of Epoch: 25 \tTraining Loss: 2.6926493644714355 \tValidation Loss: 3.2657196264009216\n"
     ]
    },
    {
     "name": "stderr",
     "output_type": "stream",
     "text": [
      "100%|██████████| 145/145 [00:59<00:00,  2.42it/s]\n"
     ]
    },
    {
     "name": "stdout",
     "output_type": "stream",
     "text": [
      "Training step:\n",
      "Epoch = 26, Loss = 2.6500182151794434\n",
      "Age accuracy = 0.5947834858419194\tRace accuracy = 0.6274659557605015\tGender accuracy = 0.9255133655162475\n",
      "Age loss = 0.9786471724510193\tRace loss = 0.9576807618141174\tGender Loss = 0.18654677271842957\n"
     ]
    },
    {
     "name": "stderr",
     "output_type": "stream",
     "text": [
      "100%|██████████| 37/37 [00:09<00:00,  4.05it/s]\n"
     ]
    },
    {
     "name": "stdout",
     "output_type": "stream",
     "text": [
      "Validation step:\n",
      "Epoch = 26, Loss = 3.285731805337442\n",
      "Age accuracy = 0.5035448729033374\tRace accuracy = 0.5831460026514497\tGender accuracy = 0.9047783733932792\n",
      "Age loss = 1.2250727415084839\tRace loss = 1.1673424243927002\tGender Loss = 0.24949094653129578\n",
      "End of Epoch: 26 \tTraining Loss: 2.6500182151794434 \tValidation Loss: 3.285731805337442\n"
     ]
    },
    {
     "name": "stderr",
     "output_type": "stream",
     "text": [
      "100%|██████████| 145/145 [00:59<00:00,  2.45it/s]\n"
     ]
    },
    {
     "name": "stdout",
     "output_type": "stream",
     "text": [
      "Training step:\n",
      "Epoch = 27, Loss = 2.6041691303253174\n",
      "Age accuracy = 0.6026803083795662\tRace accuracy = 0.6297571871172275\tGender accuracy = 0.9270120325671878\n",
      "Age loss = 0.9579199552536011\tRace loss = 0.9465271830558777\tGender Loss = 0.1813727617263794\n"
     ]
    },
    {
     "name": "stderr",
     "output_type": "stream",
     "text": [
      "100%|██████████| 37/37 [00:09<00:00,  4.04it/s]\n"
     ]
    },
    {
     "name": "stdout",
     "output_type": "stream",
     "text": [
      "Validation step:\n",
      "Epoch = 27, Loss = 3.2904128706133045\n",
      "Age accuracy = 0.5094241743039944\tRace accuracy = 0.5897169865698311\tGender accuracy = 0.9042596115049859\n",
      "Age loss = 1.2180051803588867\tRace loss = 1.1774917840957642\tGender Loss = 0.25981730222702026\n",
      "End of Epoch: 27 \tTraining Loss: 2.6041691303253174 \tValidation Loss: 3.2904128706133045\n"
     ]
    },
    {
     "name": "stderr",
     "output_type": "stream",
     "text": [
      "100%|██████████| 145/145 [00:59<00:00,  2.42it/s]\n"
     ]
    },
    {
     "name": "stdout",
     "output_type": "stream",
     "text": [
      "Training step:\n",
      "Epoch = 28, Loss = 2.5884013175964355\n",
      "Age accuracy = 0.6019309748540961\tRace accuracy = 0.6381727790186613\tGender accuracy = 0.9278478276532891\n",
      "Age loss = 0.9573504328727722\tRace loss = 0.9341256022453308\tGender Loss = 0.18014700710773468\n"
     ]
    },
    {
     "name": "stderr",
     "output_type": "stream",
     "text": [
      "100%|██████████| 37/37 [00:08<00:00,  4.28it/s]\n"
     ]
    },
    {
     "name": "stdout",
     "output_type": "stream",
     "text": [
      "Validation step:\n",
      "Epoch = 28, Loss = 3.296580759254662\n",
      "Age accuracy = 0.5093088938843737\tRace accuracy = 0.5857974523027264\tGender accuracy = 0.9045478125540377\n",
      "Age loss = 1.219305396080017\tRace loss = 1.1847515106201172\tGender Loss = 0.24685868620872498\n",
      "End of Epoch: 28 \tTraining Loss: 2.5884013175964355 \tValidation Loss: 3.296580759254662\n"
     ]
    },
    {
     "name": "stderr",
     "output_type": "stream",
     "text": [
      "100%|██████████| 145/145 [00:59<00:00,  2.44it/s]\n"
     ]
    },
    {
     "name": "stdout",
     "output_type": "stream",
     "text": [
      "Training step:\n",
      "Epoch = 29, Loss = 2.54708194732666\n",
      "Age accuracy = 0.6100727718135313\tRace accuracy = 0.6422652928885366\tGender accuracy = 0.9294041357446502\n",
      "Age loss = 0.9400981068611145\tRace loss = 0.9208404421806335\tGender Loss = 0.1804591566324234\n"
     ]
    },
    {
     "name": "stderr",
     "output_type": "stream",
     "text": [
      "100%|██████████| 37/37 [00:08<00:00,  4.13it/s]\n"
     ]
    },
    {
     "name": "stdout",
     "output_type": "stream",
     "text": [
      "Validation step:\n",
      "Epoch = 29, Loss = 3.3508221716494173\n",
      "Age accuracy = 0.5016427459795954\tRace accuracy = 0.5923107960112974\tGender accuracy = 0.9050089342325206\n",
      "Age loss = 1.2435245513916016\tRace loss = 1.197131633758545\tGender Loss = 0.2572478652000427\n",
      "End of Epoch: 29 \tTraining Loss: 2.54708194732666 \tValidation Loss: 3.3508221716494173\n"
     ]
    },
    {
     "name": "stderr",
     "output_type": "stream",
     "text": [
      "100%|██████████| 145/145 [01:02<00:00,  2.32it/s]\n"
     ]
    },
    {
     "name": "stdout",
     "output_type": "stream",
     "text": [
      "Training step:\n",
      "Epoch = 30, Loss = 2.5202078819274902\n",
      "Age accuracy = 0.6124648749909936\tRace accuracy = 0.6477123712083003\tGender accuracy = 0.9313062900785359\n",
      "Age loss = 0.9316392540931702\tRace loss = 0.9102271795272827\tGender Loss = 0.17510202527046204\n"
     ]
    },
    {
     "name": "stderr",
     "output_type": "stream",
     "text": [
      "100%|██████████| 37/37 [00:09<00:00,  3.92it/s]\n"
     ]
    },
    {
     "name": "stdout",
     "output_type": "stream",
     "text": [
      "Validation step:\n",
      "Epoch = 30, Loss = 3.324617894920143\n",
      "Age accuracy = 0.5127673064729955\tRace accuracy = 0.5905815897169866\tGender accuracy = 0.9061617384287278\n",
      "Age loss = 1.2325202226638794\tRace loss = 1.190574049949646\tGender Loss = 0.2511085867881775\n",
      "End of Epoch: 30 \tTraining Loss: 2.5202078819274902 \tValidation Loss: 3.324617894920143\n"
     ]
    },
    {
     "name": "stderr",
     "output_type": "stream",
     "text": [
      "100%|██████████| 145/145 [01:02<00:00,  2.31it/s]\n"
     ]
    },
    {
     "name": "stdout",
     "output_type": "stream",
     "text": [
      "Training step:\n",
      "Epoch = 31, Loss = 2.4943344593048096\n",
      "Age accuracy = 0.6159521579364508\tRace accuracy = 0.6561567836299446\tGender accuracy = 0.931018084876432\n",
      "Age loss = 0.9271441102027893\tRace loss = 0.8943933844566345\tGender Loss = 0.17326754331588745\n"
     ]
    },
    {
     "name": "stderr",
     "output_type": "stream",
     "text": [
      "100%|██████████| 37/37 [00:09<00:00,  3.92it/s]\n"
     ]
    },
    {
     "name": "stdout",
     "output_type": "stream",
     "text": [
      "Validation step:\n",
      "Epoch = 31, Loss = 3.265302844949671\n",
      "Age accuracy = 0.516802121159721\tRace accuracy = 0.5899475474090725\tGender accuracy = 0.9062193786385383\n",
      "Age loss = 1.2152291536331177\tRace loss = 1.1625661849975586\tGender Loss = 0.24926170706748962\n",
      "End of Epoch: 31 \tTraining Loss: 2.4943344593048096 \tValidation Loss: 3.265302844949671\n"
     ]
    },
    {
     "name": "stderr",
     "output_type": "stream",
     "text": [
      "100%|██████████| 145/145 [01:01<00:00,  2.35it/s]\n"
     ]
    },
    {
     "name": "stdout",
     "output_type": "stream",
     "text": [
      "Training step:\n",
      "Epoch = 32, Loss = 2.4814794063568115\n",
      "Age accuracy = 0.6212839541753729\tRace accuracy = 0.6548742704805822\tGender accuracy = 0.9320700338641112\n",
      "Age loss = 0.9163461327552795\tRace loss = 0.8978110551834106\tGender Loss = 0.1712746024131775\n"
     ]
    },
    {
     "name": "stderr",
     "output_type": "stream",
     "text": [
      "100%|██████████| 37/37 [00:09<00:00,  3.98it/s]\n"
     ]
    },
    {
     "name": "stdout",
     "output_type": "stream",
     "text": [
      "Validation step:\n",
      "Epoch = 32, Loss = 3.3860800330703325\n",
      "Age accuracy = 0.5042365554210617\tRace accuracy = 0.5857974523027264\tGender accuracy = 0.9060464580091071\n",
      "Age loss = 1.2561613321304321\tRace loss = 1.2105543613433838\tGender Loss = 0.2590585947036743\n",
      "End of Epoch: 32 \tTraining Loss: 2.4814794063568115 \tValidation Loss: 3.3860800330703325\n"
     ]
    },
    {
     "name": "stderr",
     "output_type": "stream",
     "text": [
      "100%|██████████| 145/145 [01:00<00:00,  2.41it/s]\n"
     ]
    },
    {
     "name": "stdout",
     "output_type": "stream",
     "text": [
      "Training step:\n",
      "Epoch = 33, Loss = 2.4412524700164795\n",
      "Age accuracy = 0.6276676994019742\tRace accuracy = 0.6648173499531667\tGender accuracy = 0.9331508033720008\n",
      "Age loss = 0.9046276211738586\tRace loss = 0.8791674971580505\tGender Loss = 0.16874270141124725\n"
     ]
    },
    {
     "name": "stderr",
     "output_type": "stream",
     "text": [
      "100%|██████████| 37/37 [00:09<00:00,  3.98it/s]\n"
     ]
    },
    {
     "name": "stdout",
     "output_type": "stream",
     "text": [
      "Validation step:\n",
      "Epoch = 33, Loss = 3.4711353649964205\n",
      "Age accuracy = 0.5030261110150441\tRace accuracy = 0.5878724998558995\tGender accuracy = 0.9062193786385383\n",
      "Age loss = 1.279449462890625\tRace loss = 1.2521358728408813\tGender Loss = 0.26352182030677795\n",
      "End of Epoch: 33 \tTraining Loss: 2.4412524700164795 \tValidation Loss: 3.4711353649964205\n"
     ]
    },
    {
     "name": "stderr",
     "output_type": "stream",
     "text": [
      "100%|██████████| 145/145 [01:00<00:00,  2.40it/s]\n"
     ]
    },
    {
     "name": "stdout",
     "output_type": "stream",
     "text": [
      "Training step:\n",
      "Epoch = 34, Loss = 2.429802656173706\n",
      "Age accuracy = 0.6278838533035521\tRace accuracy = 0.6681605302975718\tGender accuracy = 0.9329778802507386\n",
      "Age loss = 0.89960777759552\tRace loss = 0.8755510449409485\tGender Loss = 0.16968780755996704\n"
     ]
    },
    {
     "name": "stderr",
     "output_type": "stream",
     "text": [
      "100%|██████████| 37/37 [00:09<00:00,  3.93it/s]\n"
     ]
    },
    {
     "name": "stdout",
     "output_type": "stream",
     "text": [
      "Validation step:\n",
      "Epoch = 34, Loss = 3.4448495040068754\n",
      "Age accuracy = 0.5074644071704421\tRace accuracy = 0.5995734624474033\tGender accuracy = 0.9075451034641766\n",
      "Age loss = 1.2901179790496826\tRace loss = 1.2173538208007812\tGender Loss = 0.25869205594062805\n",
      "End of Epoch: 34 \tTraining Loss: 2.429802656173706 \tValidation Loss: 3.4448495040068754\n"
     ]
    }
   ],
   "source": [
    "# map ages\n",
    "mappings = {'age_map' : utils.get_mappings(age_dict),\n",
    "            'gender_map' : utils.get_mappings(gender_dict),\n",
    "            'race_map' : utils.get_mappings(race_dict)}\n",
    "\n",
    "\n",
    "class_dicts = {'age' : age_dict, \n",
    "               'race' : race_dict, \n",
    "               'gender': gender_dict}\n",
    "# train the model\n",
    "best_model = train.train_model(model, criterion, \n",
    "                               optimizer, scheduler_lr=scheduler, \n",
    "                               device=device, loaders=[train_loader, test_loader],\n",
    "                               tensor_writer=writer, mappings=mappings, class_dicts=class_dicts,\n",
    "                               class_weights=class_weights, n_epochs=35)"
   ]
  },
  {
   "cell_type": "code",
   "execution_count": 32,
   "metadata": {},
   "outputs": [],
   "source": [
    "best_dir = Path('../models/best_model/best_model.pt')\n",
    "model, optimizer, epoch = utils.load_ckp(best_dir, model, optimizer)\n",
    "model = model.to(device)\n"
   ]
  },
  {
   "cell_type": "code",
   "execution_count": 33,
   "metadata": {},
   "outputs": [
    {
     "name": "stderr",
     "output_type": "stream",
     "text": [
      "100%|██████████| 23/23 [00:06<00:00,  3.60it/s]\n"
     ]
    },
    {
     "data": {
      "image/png": "[encoded data removed]",
      "text/plain": [
       "<Figure size 2400x500 with 6 Axes>"
      ]
     },
     "metadata": {},
     "output_type": "display_data"
    }
   ],
   "source": [
    "mappings = {'age_map' : utils.get_mappings(age_dict),\n",
    "            'gender_map' : utils.get_mappings(gender_dict),\n",
    "            'race_map' : utils.get_mappings(race_dict)}\n",
    "\n",
    "ages, genders, races = metrics.build_confusion_matrix(model, val_loader, mappings, device=device)"
   ]
  },
  {
   "cell_type": "code",
   "execution_count": 34,
   "metadata": {},
   "outputs": [
    {
     "name": "stderr",
     "output_type": "stream",
     "text": [
      "100%|██████████| 23/23 [00:06<00:00,  3.59it/s]\n"
     ]
    },
    {
     "data": {
      "text/html": [
       "<div>\n",
       "<style scoped>\n",
       "    .dataframe tbody tr th:only-of-type {\n",
       "        vertical-align: middle;\n",
       "    }\n",
       "\n",
       "    .dataframe tbody tr th {\n",
       "        vertical-align: top;\n",
       "    }\n",
       "\n",
       "    .dataframe thead th {\n",
       "        text-align: right;\n",
       "    }\n",
       "</style>\n",
       "<table border=\"1\" class=\"dataframe\">\n",
       "  <thead>\n",
       "    <tr style=\"text-align: right;\">\n",
       "      <th></th>\n",
       "      <th>accuracy</th>\n",
       "      <th>precision</th>\n",
       "      <th>recall</th>\n",
       "      <th>f1</th>\n",
       "    </tr>\n",
       "  </thead>\n",
       "  <tbody>\n",
       "    <tr>\n",
       "      <th>age</th>\n",
       "      <td>0.508947</td>\n",
       "      <td>0.490461</td>\n",
       "      <td>0.526508</td>\n",
       "      <td>0.505228</td>\n",
       "    </tr>\n",
       "    <tr>\n",
       "      <th>gender</th>\n",
       "      <td>0.899215</td>\n",
       "      <td>0.899451</td>\n",
       "      <td>0.898248</td>\n",
       "      <td>0.898740</td>\n",
       "    </tr>\n",
       "    <tr>\n",
       "      <th>race</th>\n",
       "      <td>0.548293</td>\n",
       "      <td>0.548434</td>\n",
       "      <td>0.554255</td>\n",
       "      <td>0.526622</td>\n",
       "    </tr>\n",
       "  </tbody>\n",
       "</table>\n",
       "</div>"
      ],
      "text/plain": [
       "        accuracy  precision    recall        f1\n",
       "age     0.508947   0.490461  0.526508  0.505228\n",
       "gender  0.899215   0.899451  0.898248  0.898740\n",
       "race    0.548293   0.548434  0.554255  0.526622"
      ]
     },
     "execution_count": 34,
     "metadata": {},
     "output_type": "execute_result"
    }
   ],
   "source": [
    "metrics.calc_measures(model, val_loader, device)"
   ]
  },
  {
   "cell_type": "code",
   "execution_count": 58,
   "metadata": {},
   "outputs": [
    {
     "name": "stderr",
     "output_type": "stream",
     "text": [
      "100%|██████████| 22/22 [00:05<00:00,  3.84it/s]\n"
     ]
    }
   ],
   "source": [
    "def get_mismatched_classes(model, loader, true_cat, pred_cat, dictionary, output_class, device):\n",
    "    \"\"\"Gets the mismatched images for the given model, loader, true category, predicted category, dictionary, output class, and device.\n",
    "\n",
    "    Args:\n",
    "        model: The model to evaluate.\n",
    "        loader: The loader to use to load the data.\n",
    "        true_cat: The true category.\n",
    "        pred_cat: The predicted category.\n",
    "        dictionary: A dictionary mapping category names to indices.\n",
    "        output_class: The output class.\n",
    "        device: The device to use.\n",
    "\n",
    "    Returns:\n",
    "        A list of mismatched images.\n",
    "    \"\"\"\n",
    "    # Initialize a list to store the mismatched images.\n",
    "    mismatched_img = []\n",
    "    # Set the model to evaluation mode.\n",
    "    model.eval()\n",
    "    # Iterate over the loader.\n",
    "    with torch.no_grad():   \n",
    "          \n",
    "        for batch in tqdm(loader):\n",
    "            # Move the images and labels to the device.\n",
    "            image = batch['image'].to(device)\n",
    "            age = batch[output_class].to(device)\n",
    "            # Make a prediction.\n",
    "            output = model(image)\n",
    "\n",
    "            # Get the predicted class.\n",
    "            _, predicted = torch.max(torch.softmax(output[f'{output_class}_pred'].data, dim=1), 1)\n",
    "            # Iterate over the true and predicted classes.\n",
    "            for true, pred, img in zip(age, predicted, image):\n",
    "                # If the true and predicted categories are not the same, add the image to the list of mismatched images.\n",
    "                if dictionary[true_cat] == int(true) and dictionary[pred_cat] == int(pred):\n",
    "                    mismatched_img.append(img)\n",
    "                    \n",
    "    # Return the list of mismatched images.\n",
    "    return mismatched_img\n",
    "\n",
    "true_cat = 'Latino_Hispanic'\n",
    "pred_cat = 'Middle Eastern'\n",
    "mism_imgs = get_mismatched_classes(model, val_loader, true_cat, pred_cat, race_dict, 'race', device)\n",
    "mism_imgs = [i.cpu() for i in mism_imgs]"
   ]
  },
  {
   "cell_type": "code",
   "execution_count": 59,
   "metadata": {},
   "outputs": [
    {
     "name": "stderr",
     "output_type": "stream",
     "text": [
      "100%|██████████| 435/435 [00:22<00:00, 19.62it/s]\n"
     ]
    }
   ],
   "source": [
    "import matplotlib.pyplot as plt\n",
    "\n",
    "import torchvision.transforms.functional as F\n",
    "\n",
    "\n",
    "plt.rcParams[\"savefig.bbox\"] = 'tight'\n",
    "\n",
    "class Unnormalize(nn.Module):\n",
    "    def __init__(self, mean, std):\n",
    "        super(Unnormalize, self).__init__()\n",
    "        self.mean = torch.tensor(mean)\n",
    "        self.std = torch.tensor(std)\n",
    "\n",
    "    def forward(self, x):\n",
    "        return self.unnormalize(x)\n",
    "\n",
    "    def unnormalize(self, x):\n",
    "        # Assuming x is a PyTorch tensor\n",
    "        return x * self.std[None, :, None, None] + self.mean[None, :, None, None]\n",
    "\n",
    "def show(imgs, true_cat, pred_cat):\n",
    "    if not os.path.exists('../mismatched'):\n",
    "        os.mkdir('../mismatched')\n",
    "        \n",
    "    img_batch = []\n",
    "    cur_batch = 1\n",
    "    if not isinstance(imgs, list):\n",
    "        imgs = [imgs]\n",
    "    for i, img in enumerate(tqdm(imgs)):\n",
    "        img = np.array(img).transpose(1, 2, 0)\n",
    "        img_batch.append(img)\n",
    "        \n",
    "        if (i + 1) % 20 == 0:\n",
    "            fig = plt.figure(figsize=(8, 8))\n",
    "            plt.title(f'True category = {true_cat}; Mismatched one = {pred_cat}')\n",
    "            columns = 4\n",
    "            rows = 5\n",
    "            for i in range(1, columns*rows + 1):\n",
    "                img = img_batch[i - 1]\n",
    "                ax = fig.add_subplot(rows, columns, i)\n",
    "                ax.set_axis_off()\n",
    "                plt.imshow(img)\n",
    "            fig.set_tight_layout(tight=True)\n",
    "            fig.savefig(f'../mismatched/mismatched_age_number_{cur_batch}.png')\n",
    "            plt.close()\n",
    "\n",
    "            cur_batch += 1\n",
    "            img_batch = []\n",
    "\n",
    "# Example Usage:\n",
    "mean = [0.485, 0.456, 0.406]  # Replace with your actual mean values\n",
    "std = [0.229, 0.224, 0.225]   # Replace with your actual standard deviation values\n",
    "\n",
    "# Create an instance of Unnormalize\n",
    "unnormalize = Unnormalize(mean=mean, std=std)\n",
    "show([unnormalize(i).squeeze(0) for i in mism_imgs], true_cat, pred_cat)"
   ]
  },
  {
   "cell_type": "code",
   "execution_count": null,
   "metadata": {},
   "outputs": [],
   "source": []
  }
 ],
 "metadata": {
  "kernelspec": {
   "display_name": "poetry-root-env",
   "language": "python",
   "name": "poetry-root-env"
  },
  "language_info": {
   "codemirror_mode": {
    "name": "ipython",
    "version": 3
   },
   "file_extension": ".py",
   "mimetype": "text/x-python",
   "name": "python",
   "nbconvert_exporter": "python",
   "pygments_lexer": "ipython3",
   "version": "3.10.13"
  }
 },
 "nbformat": 4,
 "nbformat_minor": 4
}
